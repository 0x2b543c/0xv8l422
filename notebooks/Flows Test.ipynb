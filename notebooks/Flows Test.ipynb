{
 "cells": [
  {
   "cell_type": "code",
   "execution_count": 1,
   "metadata": {
    "ExecuteTime": {
     "end_time": "2019-10-31T17:47:02.185288Z",
     "start_time": "2019-10-31T17:47:01.676722Z"
    }
   },
   "outputs": [],
   "source": [
    "import sys\n",
    "import pandas as pd\n",
    "%matplotlib inline\n",
    "\n",
    "sys.path.append('/workspace')\n",
    "from IPython.display import clear_output"
   ]
  },
  {
   "cell_type": "markdown",
   "metadata": {},
   "source": [
    "`CapFutExp10yrUSD\n",
    "FlowInExInclNtv\n",
    "FlowInExInclUSD\n",
    "FlowInExNtv\n",
    "FlowInExUSD\n",
    "FlowOutExInclNtv\n",
    "FlowOutExInclUSD\n",
    "FlowOutExNtv\n",
    "FlowOutExUSD\n",
    "FlowTfrFromExCnt\n",
    "FlowTfrFromExInclCnt\n",
    "FlowTfrToExCnt\n",
    "FlowTfrToExInclCnt\n",
    "SplyExNtv\n",
    "SplyExpFut10yr\n",
    "SplyExUSD\n",
    "TxExCnt`"
   ]
  },
  {
   "cell_type": "markdown",
   "metadata": {},
   "source": [
    "`    {\n",
    "      'group': 'Exchange Supply, NTV',\n",
    "      'metrics': ['SplyBFXNtv', 'SplyBSPNtv', 'SplyBNBNtv', 'SplyHUONtv', 'SplyBMXNtv']\n",
    "    },\n",
    "    {\n",
    "      'group': 'Exchange Inflow, NTV',\n",
    "      'metrics': ['FlowInBFXNtv', 'FlowInBSPNtv', 'FlowInBNBNtv', 'FlowInHUONtv', 'FlowInBMXNtv']\n",
    "    },\n",
    "    {\n",
    "      'group': 'Exchange Outflow, NTV',\n",
    "      'metrics': ['FlowOutBFXNtv', 'FlowOutBSPNtv', 'FlowOutBNBNtv', 'FlowOutHUONtv', 'FlowOutBMXNtv']`"
   ]
  },
  {
   "cell_type": "code",
   "execution_count": 2,
   "metadata": {
    "ExecuteTime": {
     "end_time": "2019-10-31T17:47:03.192304Z",
     "start_time": "2019-10-31T17:47:02.322886Z"
    }
   },
   "outputs": [],
   "source": [
    "from modules.Pipelines.NetworkDataPipe import NetworkDataPipe"
   ]
  },
  {
   "cell_type": "code",
   "execution_count": 3,
   "metadata": {
    "ExecuteTime": {
     "end_time": "2019-10-31T17:47:20.971897Z",
     "start_time": "2019-10-31T17:47:20.965558Z"
    }
   },
   "outputs": [],
   "source": [
    "api_key='KKzV6V2DTY87v3m1dGZu'\n",
    "assets=['btc', 'eth']\n",
    "metrics=['TxCnt','CapRealUSD']"
   ]
  },
  {
   "cell_type": "code",
   "execution_count": 4,
   "metadata": {
    "ExecuteTime": {
     "end_time": "2019-10-31T17:47:22.975404Z",
     "start_time": "2019-10-31T17:47:21.387385Z"
    }
   },
   "outputs": [],
   "source": [
    "df = NetworkDataPipe(api_key=api_key, assets=assets, metrics=metrics, start='2019-01-01').run_pipeline()"
   ]
  },
  {
   "cell_type": "code",
   "execution_count": 5,
   "metadata": {
    "ExecuteTime": {
     "end_time": "2019-10-31T17:47:23.605573Z",
     "start_time": "2019-10-31T17:47:23.560391Z"
    }
   },
   "outputs": [
    {
     "data": {
      "text/html": [
       "<div>\n",
       "<style scoped>\n",
       "    .dataframe tbody tr th:only-of-type {\n",
       "        vertical-align: middle;\n",
       "    }\n",
       "\n",
       "    .dataframe tbody tr th {\n",
       "        vertical-align: top;\n",
       "    }\n",
       "\n",
       "    .dataframe thead th {\n",
       "        text-align: right;\n",
       "    }\n",
       "</style>\n",
       "<table border=\"1\" class=\"dataframe\">\n",
       "  <thead>\n",
       "    <tr style=\"text-align: right;\">\n",
       "      <th></th>\n",
       "      <th>btc.TxCnt</th>\n",
       "      <th>btc.CapRealUSD</th>\n",
       "      <th>eth.TxCnt</th>\n",
       "      <th>eth.CapRealUSD</th>\n",
       "    </tr>\n",
       "  </thead>\n",
       "  <tbody>\n",
       "    <tr>\n",
       "      <td>2019-01-01</td>\n",
       "      <td>235813.0</td>\n",
       "      <td>7.922758e+10</td>\n",
       "      <td>448168.0</td>\n",
       "      <td>2.887769e+10</td>\n",
       "    </tr>\n",
       "    <tr>\n",
       "      <td>2019-01-02</td>\n",
       "      <td>271103.0</td>\n",
       "      <td>7.922500e+10</td>\n",
       "      <td>589959.0</td>\n",
       "      <td>2.899081e+10</td>\n",
       "    </tr>\n",
       "    <tr>\n",
       "      <td>2019-01-03</td>\n",
       "      <td>287081.0</td>\n",
       "      <td>7.915035e+10</td>\n",
       "      <td>596620.0</td>\n",
       "      <td>2.898172e+10</td>\n",
       "    </tr>\n",
       "    <tr>\n",
       "      <td>2019-01-04</td>\n",
       "      <td>283490.0</td>\n",
       "      <td>7.912703e+10</td>\n",
       "      <td>549398.0</td>\n",
       "      <td>2.909478e+10</td>\n",
       "    </tr>\n",
       "    <tr>\n",
       "      <td>2019-01-05</td>\n",
       "      <td>269637.0</td>\n",
       "      <td>7.911544e+10</td>\n",
       "      <td>511189.0</td>\n",
       "      <td>2.904683e+10</td>\n",
       "    </tr>\n",
       "  </tbody>\n",
       "</table>\n",
       "</div>"
      ],
      "text/plain": [
       "            btc.TxCnt  btc.CapRealUSD  eth.TxCnt  eth.CapRealUSD\n",
       "2019-01-01   235813.0    7.922758e+10   448168.0    2.887769e+10\n",
       "2019-01-02   271103.0    7.922500e+10   589959.0    2.899081e+10\n",
       "2019-01-03   287081.0    7.915035e+10   596620.0    2.898172e+10\n",
       "2019-01-04   283490.0    7.912703e+10   549398.0    2.909478e+10\n",
       "2019-01-05   269637.0    7.911544e+10   511189.0    2.904683e+10"
      ]
     },
     "execution_count": 5,
     "metadata": {},
     "output_type": "execute_result"
    }
   ],
   "source": [
    "df.head()"
   ]
  },
  {
   "cell_type": "code",
   "execution_count": null,
   "metadata": {},
   "outputs": [],
   "source": []
  }
 ],
 "metadata": {
  "kernelspec": {
   "display_name": "Python 3",
   "language": "python",
   "name": "python3"
  },
  "language_info": {
   "codemirror_mode": {
    "name": "ipython",
    "version": 3
   },
   "file_extension": ".py",
   "mimetype": "text/x-python",
   "name": "python",
   "nbconvert_exporter": "python",
   "pygments_lexer": "ipython3",
   "version": "3.6.9"
  },
  "toc": {
   "base_numbering": 1,
   "nav_menu": {},
   "number_sections": true,
   "sideBar": true,
   "skip_h1_title": false,
   "title_cell": "Table of Contents",
   "title_sidebar": "Contents",
   "toc_cell": false,
   "toc_position": {},
   "toc_section_display": true,
   "toc_window_display": false
  },
  "varInspector": {
   "cols": {
    "lenName": 16,
    "lenType": 16,
    "lenVar": 40
   },
   "kernels_config": {
    "python": {
     "delete_cmd_postfix": "",
     "delete_cmd_prefix": "del ",
     "library": "var_list.py",
     "varRefreshCmd": "print(var_dic_list())"
    },
    "r": {
     "delete_cmd_postfix": ") ",
     "delete_cmd_prefix": "rm(",
     "library": "var_list.r",
     "varRefreshCmd": "cat(var_dic_list()) "
    }
   },
   "types_to_exclude": [
    "module",
    "function",
    "builtin_function_or_method",
    "instance",
    "_Feature"
   ],
   "window_display": false
  }
 },
 "nbformat": 4,
 "nbformat_minor": 2
}
