{
 "cells": [
  {
   "cell_type": "code",
   "execution_count": 144,
   "metadata": {
    "ExecuteTime": {
     "end_time": "2019-10-23T15:37:20.717182Z",
     "start_time": "2019-10-23T15:37:20.705611Z"
    }
   },
   "outputs": [],
   "source": [
    "import pytest\n",
    "import sys\n",
    "import os \n",
    "import pandas as pd\n",
    "import importlib\n",
    "# dir_path = os.path.abspath(os.path.join(os.path.dirname( __file__ ), '..'))\n",
    "# sys.path.append(dir_path)\n",
    "# config\n",
    "%matplotlib inline\n",
    "sys.path.append('/workspace')"
   ]
  },
  {
   "cell_type": "code",
   "execution_count": 145,
   "metadata": {
    "ExecuteTime": {
     "end_time": "2019-10-23T15:37:45.038239Z",
     "start_time": "2019-10-23T15:37:44.998251Z"
    }
   },
   "outputs": [
    {
     "data": {
      "text/plain": [
       "<module 'modules.Pipeline' from '/workspace/modules/Pipeline.py'>"
      ]
     },
     "execution_count": 145,
     "metadata": {},
     "output_type": "execute_result"
    }
   ],
   "source": [
    "from modules.Transformers import DateNormalizer as dmod\n",
    "from modules.Visualizations import LineChart as lcmod\n",
    "from modules import Pipeline as pmod\n",
    "importlib.reload(dmod)\n",
    "importlib.reload(lcmod)\n",
    "importlib.reload(pmod)"
   ]
  },
  {
   "cell_type": "code",
   "execution_count": 146,
   "metadata": {
    "ExecuteTime": {
     "end_time": "2019-10-23T15:37:45.390247Z",
     "start_time": "2019-10-23T15:37:45.376773Z"
    }
   },
   "outputs": [],
   "source": [
    "from modules.Pipeline import Pipeline as p\n",
    "from modules.CM_API import CM_API as cm\n",
    "from modules.Transformers.DateNormalizer import DateNormalizer as dn\n",
    "from modules.Visualizations.LineChart import LineChart as lc"
   ]
  },
  {
   "cell_type": "code",
   "execution_count": 147,
   "metadata": {
    "ExecuteTime": {
     "end_time": "2019-10-23T15:37:49.796713Z",
     "start_time": "2019-10-23T15:37:49.309553Z"
    }
   },
   "outputs": [],
   "source": [
    "test_obj = cm()\n",
    "test_network_data = test_obj.get_coinmetrics_network_data(api_key='KKzV6V2DTY87v3m1dGZu', asset='eth', metrics='AdrActCnt,TxCnt', start='2019-01-01', end='2019-01-07')"
   ]
  },
  {
   "cell_type": "code",
   "execution_count": 148,
   "metadata": {
    "ExecuteTime": {
     "end_time": "2019-10-23T15:37:49.857668Z",
     "start_time": "2019-10-23T15:37:49.828890Z"
    }
   },
   "outputs": [
    {
     "data": {
      "text/html": [
       "<div>\n",
       "<style scoped>\n",
       "    .dataframe tbody tr th:only-of-type {\n",
       "        vertical-align: middle;\n",
       "    }\n",
       "\n",
       "    .dataframe tbody tr th {\n",
       "        vertical-align: top;\n",
       "    }\n",
       "\n",
       "    .dataframe thead th {\n",
       "        text-align: right;\n",
       "    }\n",
       "</style>\n",
       "<table border=\"1\" class=\"dataframe\">\n",
       "  <thead>\n",
       "    <tr style=\"text-align: right;\">\n",
       "      <th></th>\n",
       "      <th>time</th>\n",
       "      <th>AdrActCnt</th>\n",
       "      <th>TxCnt</th>\n",
       "    </tr>\n",
       "  </thead>\n",
       "  <tbody>\n",
       "    <tr>\n",
       "      <td>0</td>\n",
       "      <td>2019-01-01T00:00:00.000Z</td>\n",
       "      <td>227755.0</td>\n",
       "      <td>448168.0</td>\n",
       "    </tr>\n",
       "    <tr>\n",
       "      <td>1</td>\n",
       "      <td>2019-01-02T00:00:00.000Z</td>\n",
       "      <td>266633.0</td>\n",
       "      <td>589959.0</td>\n",
       "    </tr>\n",
       "    <tr>\n",
       "      <td>2</td>\n",
       "      <td>2019-01-03T00:00:00.000Z</td>\n",
       "      <td>298379.0</td>\n",
       "      <td>596620.0</td>\n",
       "    </tr>\n",
       "    <tr>\n",
       "      <td>3</td>\n",
       "      <td>2019-01-04T00:00:00.000Z</td>\n",
       "      <td>264923.0</td>\n",
       "      <td>549398.0</td>\n",
       "    </tr>\n",
       "    <tr>\n",
       "      <td>4</td>\n",
       "      <td>2019-01-05T00:00:00.000Z</td>\n",
       "      <td>257064.0</td>\n",
       "      <td>511189.0</td>\n",
       "    </tr>\n",
       "  </tbody>\n",
       "</table>\n",
       "</div>"
      ],
      "text/plain": [
       "                       time AdrActCnt     TxCnt\n",
       "0  2019-01-01T00:00:00.000Z  227755.0  448168.0\n",
       "1  2019-01-02T00:00:00.000Z  266633.0  589959.0\n",
       "2  2019-01-03T00:00:00.000Z  298379.0  596620.0\n",
       "3  2019-01-04T00:00:00.000Z  264923.0  549398.0\n",
       "4  2019-01-05T00:00:00.000Z  257064.0  511189.0"
      ]
     },
     "execution_count": 148,
     "metadata": {},
     "output_type": "execute_result"
    }
   ],
   "source": [
    "test_network_data.head()"
   ]
  },
  {
   "cell_type": "code",
   "execution_count": 149,
   "metadata": {
    "ExecuteTime": {
     "end_time": "2019-10-23T15:37:50.944408Z",
     "start_time": "2019-10-23T15:37:49.894199Z"
    },
    "scrolled": true
   },
   "outputs": [
    {
     "ename": "TypeError",
     "evalue": "Can't instantiate abstract class LineChart with abstract methods create_visualization",
     "output_type": "error",
     "traceback": [
      "\u001b[0;31m---------------------------------------------------------------------------\u001b[0m",
      "\u001b[0;31mTypeError\u001b[0m                                 Traceback (most recent call last)",
      "\u001b[0;32m<ipython-input-149-2310e81dbfe5>\u001b[0m in \u001b[0;36m<module>\u001b[0;34m\u001b[0m\n\u001b[1;32m      3\u001b[0m \u001b[0mtest_network_data\u001b[0m \u001b[0;34m=\u001b[0m \u001b[0mtest_obj\u001b[0m\u001b[0;34m.\u001b[0m\u001b[0mget_coinmetrics_network_data\u001b[0m\u001b[0;34m(\u001b[0m\u001b[0mapi_key\u001b[0m\u001b[0;34m=\u001b[0m\u001b[0;34m'KKzV6V2DTY87v3m1dGZu'\u001b[0m\u001b[0;34m,\u001b[0m \u001b[0masset\u001b[0m\u001b[0;34m=\u001b[0m\u001b[0;34m'eth'\u001b[0m\u001b[0;34m,\u001b[0m \u001b[0mmetrics\u001b[0m\u001b[0;34m=\u001b[0m\u001b[0;34m'AdrActCnt,TxCnt'\u001b[0m\u001b[0;34m,\u001b[0m \u001b[0mstart\u001b[0m\u001b[0;34m=\u001b[0m\u001b[0;34m'2019-01-01'\u001b[0m\u001b[0;34m,\u001b[0m \u001b[0mend\u001b[0m\u001b[0;34m=\u001b[0m\u001b[0;34m'2019-01-07'\u001b[0m\u001b[0;34m)\u001b[0m\u001b[0;34m\u001b[0m\u001b[0;34m\u001b[0m\u001b[0m\n\u001b[1;32m      4\u001b[0m \u001b[0md\u001b[0m \u001b[0;34m=\u001b[0m \u001b[0mdn\u001b[0m\u001b[0;34m(\u001b[0m\u001b[0;34m)\u001b[0m\u001b[0;34m\u001b[0m\u001b[0;34m\u001b[0m\u001b[0m\n\u001b[0;32m----> 5\u001b[0;31m \u001b[0mtest_chart\u001b[0m \u001b[0;34m=\u001b[0m \u001b[0mlc\u001b[0m\u001b[0;34m(\u001b[0m\u001b[0mchart_title\u001b[0m\u001b[0;34m=\u001b[0m\u001b[0;34m'test'\u001b[0m\u001b[0;34m,\u001b[0m \u001b[0my_axis_columns\u001b[0m\u001b[0;34m=\u001b[0m\u001b[0;34m[\u001b[0m\u001b[0;34m'AdrActCnt'\u001b[0m\u001b[0;34m]\u001b[0m\u001b[0;34m)\u001b[0m\u001b[0;34m\u001b[0m\u001b[0;34m\u001b[0m\u001b[0m\n\u001b[0m\u001b[1;32m      6\u001b[0m \u001b[0mtest_chart_2\u001b[0m \u001b[0;34m=\u001b[0m \u001b[0mlc\u001b[0m\u001b[0;34m(\u001b[0m\u001b[0mchart_title\u001b[0m\u001b[0;34m=\u001b[0m\u001b[0;34m'test 2'\u001b[0m\u001b[0;34m,\u001b[0m \u001b[0my_axis_columns\u001b[0m\u001b[0;34m=\u001b[0m\u001b[0;34m[\u001b[0m\u001b[0;34m'TxCnt'\u001b[0m\u001b[0;34m]\u001b[0m\u001b[0;34m)\u001b[0m\u001b[0;34m\u001b[0m\u001b[0;34m\u001b[0m\u001b[0m\n\u001b[1;32m      7\u001b[0m \u001b[0md\u001b[0m\u001b[0;34m.\u001b[0m\u001b[0msay_hello\u001b[0m\u001b[0;34m(\u001b[0m\u001b[0;34m)\u001b[0m\u001b[0;34m\u001b[0m\u001b[0;34m\u001b[0m\u001b[0m\n",
      "\u001b[0;31mTypeError\u001b[0m: Can't instantiate abstract class LineChart with abstract methods create_visualization"
     ]
    }
   ],
   "source": [
    "test_pipeline = p()\n",
    "test_obj = cm()\n",
    "test_network_data = test_obj.get_coinmetrics_network_data(api_key='KKzV6V2DTY87v3m1dGZu', asset='eth', metrics='AdrActCnt,TxCnt', start='2019-01-01', end='2019-01-07')\n",
    "d = dn()\n",
    "test_chart = lc(chart_title='test', y_axis_columns=['AdrActCnt'])\n",
    "test_chart_2 = lc(chart_title='test 2', y_axis_columns=['TxCnt'])\n",
    "d.say_hello()\n",
    "test_pipeline.load_data(df=test_network_data)\n",
    "test_pipeline.load_transformers(transformers=[dn()])\n",
    "test_pipeline.print_transformers()\n",
    "test_pipeline.execute_transformers()\n",
    "test_pipeline.load_charts(charts=[test_chart, test_chart_2])\n",
    "test_pipeline.render_charts()\n",
    "# test_pipeline.get_data()"
   ]
  },
  {
   "cell_type": "code",
   "execution_count": null,
   "metadata": {
    "ExecuteTime": {
     "end_time": "2019-10-23T15:37:51.009463Z",
     "start_time": "2019-10-23T15:37:50.983197Z"
    }
   },
   "outputs": [],
   "source": [
    "%qtconsole "
   ]
  },
  {
   "cell_type": "code",
   "execution_count": null,
   "metadata": {},
   "outputs": [],
   "source": []
  },
  {
   "cell_type": "code",
   "execution_count": null,
   "metadata": {},
   "outputs": [],
   "source": []
  }
 ],
 "metadata": {
  "kernelspec": {
   "display_name": "Python 3",
   "language": "python",
   "name": "python3"
  },
  "language_info": {
   "codemirror_mode": {
    "name": "ipython",
    "version": 3
   },
   "file_extension": ".py",
   "mimetype": "text/x-python",
   "name": "python",
   "nbconvert_exporter": "python",
   "pygments_lexer": "ipython3",
   "version": "3.6.9"
  },
  "toc": {
   "base_numbering": 1,
   "nav_menu": {},
   "number_sections": true,
   "sideBar": true,
   "skip_h1_title": false,
   "title_cell": "Table of Contents",
   "title_sidebar": "Contents",
   "toc_cell": false,
   "toc_position": {},
   "toc_section_display": true,
   "toc_window_display": false
  },
  "varInspector": {
   "cols": {
    "lenName": 16,
    "lenType": 16,
    "lenVar": 40
   },
   "kernels_config": {
    "python": {
     "delete_cmd_postfix": "",
     "delete_cmd_prefix": "del ",
     "library": "var_list.py",
     "varRefreshCmd": "print(var_dic_list())"
    },
    "r": {
     "delete_cmd_postfix": ") ",
     "delete_cmd_prefix": "rm(",
     "library": "var_list.r",
     "varRefreshCmd": "cat(var_dic_list()) "
    }
   },
   "types_to_exclude": [
    "module",
    "function",
    "builtin_function_or_method",
    "instance",
    "_Feature"
   ],
   "window_display": false
  }
 },
 "nbformat": 4,
 "nbformat_minor": 4
}
