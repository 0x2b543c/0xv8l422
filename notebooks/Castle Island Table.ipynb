{
 "cells": [
  {
   "cell_type": "code",
   "execution_count": 1,
   "metadata": {
    "ExecuteTime": {
     "end_time": "2019-11-21T22:28:44.379643Z",
     "start_time": "2019-11-21T22:28:43.890050Z"
    }
   },
   "outputs": [],
   "source": [
    "import sys\n",
    "import pandas as pd\n",
    "%matplotlib inline\n",
    "sys.path.append('/workspace')\n",
    "pd.set_option('display.max_columns', None)  \n",
    "pd.set_option('display.max_rows', None)  "
   ]
  },
  {
   "cell_type": "code",
   "execution_count": 2,
   "metadata": {
    "ExecuteTime": {
     "end_time": "2019-11-21T22:28:45.763486Z",
     "start_time": "2019-11-21T22:28:44.532603Z"
    }
   },
   "outputs": [],
   "source": [
    "from modules.Pipelines.CastleIslandPipe import CastleIslandPipe"
   ]
  },
  {
   "cell_type": "code",
   "execution_count": 3,
   "metadata": {
    "ExecuteTime": {
     "end_time": "2019-11-21T22:28:45.780243Z",
     "start_time": "2019-11-21T22:28:45.772062Z"
    }
   },
   "outputs": [],
   "source": [
    "api_key = 'KKzV6V2DTY87v3m1dGZu'"
   ]
  },
  {
   "cell_type": "code",
   "execution_count": 4,
   "metadata": {
    "ExecuteTime": {
     "end_time": "2019-11-21T22:28:45.798782Z",
     "start_time": "2019-11-21T22:28:45.785183Z"
    },
    "code_folding": [
     0
    ]
   },
   "outputs": [],
   "source": [
    "assets = [\n",
    " 'ada',\n",
    " 'bat',\n",
    " 'bch',\n",
    " 'bnb_mainnet',\n",
    " 'bsv',\n",
    " 'btc',\n",
    " 'btg',\n",
    " 'dai',\n",
    " 'dash',\n",
    " 'dcr',\n",
    " 'doge',\n",
    " 'eos',\n",
    " 'etc',\n",
    " 'eth',\n",
    " 'grin',\n",
    " 'ht',\n",
    " 'leo_eos',\n",
    " 'leo_eth',\n",
    " 'link',\n",
    " 'loom',\n",
    " 'ltc',\n",
    " 'mana',\n",
    " 'mkr',\n",
    " 'neo',\n",
    " 'omg',\n",
    " 'pax',\n",
    " 'pay',\n",
    " 'rep',\n",
    " 'usdc',\n",
    " 'usdt',\n",
    " 'usdt_eth',\n",
    " 'xlm',\n",
    " 'xmr',\n",
    " 'xrp',\n",
    " 'zec',\n",
    " 'zrx'\n",
    "]"
   ]
  },
  {
   "cell_type": "code",
   "execution_count": 5,
   "metadata": {
    "ExecuteTime": {
     "end_time": "2019-11-21T22:28:45.810553Z",
     "start_time": "2019-11-21T22:28:45.803580Z"
    }
   },
   "outputs": [],
   "source": [
    "# df = NetworkDataPipe(api_key=api_key, assets=['btc', 'eth', 'xrp', 'bch'], metrics=['PriceUSD'], start='2019-01-01').run()"
   ]
  },
  {
   "cell_type": "code",
   "execution_count": 6,
   "metadata": {
    "ExecuteTime": {
     "end_time": "2019-11-21T22:28:45.867031Z",
     "start_time": "2019-11-21T22:28:45.819565Z"
    }
   },
   "outputs": [],
   "source": [
    "test_data = [[1, 2, 3, 10, 11, 12, 4, 5, 6, 7]]\n",
    "test_df = pd.DataFrame(data=test_data, columns=['btc.PriceUSD', 'btc.PriceUSD.1dGrowth','btc.PriceUSD.7dGrowth', 'btc.CapMrktCurUSD','btc.CapRealUSD', 'eth.PriceUSD', 'eth.PriceUSD.1dGrowth','eth.PriceUSD.7dGrowth', 'eth.CapMrktCurUSD','eth.CapRealUSD'])"
   ]
  },
  {
   "cell_type": "code",
   "execution_count": 8,
   "metadata": {
    "ExecuteTime": {
     "end_time": "2019-11-21T22:29:11.264840Z",
     "start_time": "2019-11-21T22:28:45.944889Z"
    },
    "scrolled": false
   },
   "outputs": [],
   "source": [
    "df = CastleIslandPipe(api_key=api_key, start='2019-01-01').run()"
   ]
  },
  {
   "cell_type": "code",
   "execution_count": 9,
   "metadata": {
    "ExecuteTime": {
     "end_time": "2019-11-21T22:29:11.284257Z",
     "start_time": "2019-11-21T22:29:11.269411Z"
    }
   },
   "outputs": [
    {
     "data": {
      "text/html": [
       "<style  type=\"text/css\" >\n",
       "</style><table id=\"T_570fb402_0cae_11ea_8e12_17bf479746bc\" ><thead>    <tr>        <th class=\"blank level0\" ></th>        <th class=\"col_heading level0 col0\" >Asset</th>        <th class=\"col_heading level0 col1\" >Price</th>        <th class=\"col_heading level0 col2\" >Price 24h</th>        <th class=\"col_heading level0 col3\" >Price 7d</th>        <th class=\"col_heading level0 col4\" >Market Cap</th>        <th class=\"col_heading level0 col5\" >Realized Cap</th>    </tr></thead><tbody>\n",
       "                <tr>\n",
       "                        <th id=\"T_570fb402_0cae_11ea_8e12_17bf479746bclevel0_row0\" class=\"row_heading level0 row0\" >0</th>\n",
       "                        <td id=\"T_570fb402_0cae_11ea_8e12_17bf479746bcrow0_col0\" class=\"data row0 col0\" >btc</td>\n",
       "                        <td id=\"T_570fb402_0cae_11ea_8e12_17bf479746bcrow0_col1\" class=\"data row0 col1\" >$8,076.55</td>\n",
       "                        <td id=\"T_570fb402_0cae_11ea_8e12_17bf479746bcrow0_col2\" class=\"data row0 col2\" >-0.00%</td>\n",
       "                        <td id=\"T_570fb402_0cae_11ea_8e12_17bf479746bcrow0_col3\" class=\"data row0 col3\" >-0.08%</td>\n",
       "                        <td id=\"T_570fb402_0cae_11ea_8e12_17bf479746bcrow0_col4\" class=\"data row0 col4\" >$145.9B</td>\n",
       "                        <td id=\"T_570fb402_0cae_11ea_8e12_17bf479746bcrow0_col5\" class=\"data row0 col5\" >$102.8B</td>\n",
       "            </tr>\n",
       "            <tr>\n",
       "                        <th id=\"T_570fb402_0cae_11ea_8e12_17bf479746bclevel0_row1\" class=\"row_heading level0 row1\" >4</th>\n",
       "                        <td id=\"T_570fb402_0cae_11ea_8e12_17bf479746bcrow1_col0\" class=\"data row1 col0\" >xrp</td>\n",
       "                        <td id=\"T_570fb402_0cae_11ea_8e12_17bf479746bcrow1_col1\" class=\"data row1 col1\" >$0.25</td>\n",
       "                        <td id=\"T_570fb402_0cae_11ea_8e12_17bf479746bcrow1_col2\" class=\"data row1 col2\" >-0.01%</td>\n",
       "                        <td id=\"T_570fb402_0cae_11ea_8e12_17bf479746bcrow1_col3\" class=\"data row1 col3\" >-0.08%</td>\n",
       "                        <td id=\"T_570fb402_0cae_11ea_8e12_17bf479746bcrow1_col4\" class=\"data row1 col4\" >$25.0B</td>\n",
       "                        <td id=\"T_570fb402_0cae_11ea_8e12_17bf479746bcrow1_col5\" class=\"data row1 col5\" >$49.8B</td>\n",
       "            </tr>\n",
       "            <tr>\n",
       "                        <th id=\"T_570fb402_0cae_11ea_8e12_17bf479746bclevel0_row2\" class=\"row_heading level0 row2\" >9</th>\n",
       "                        <td id=\"T_570fb402_0cae_11ea_8e12_17bf479746bcrow2_col0\" class=\"data row2 col0\" >eth</td>\n",
       "                        <td id=\"T_570fb402_0cae_11ea_8e12_17bf479746bcrow2_col1\" class=\"data row2 col1\" >$174.41</td>\n",
       "                        <td id=\"T_570fb402_0cae_11ea_8e12_17bf479746bcrow2_col2\" class=\"data row2 col2\" >-0.01%</td>\n",
       "                        <td id=\"T_570fb402_0cae_11ea_8e12_17bf479746bcrow2_col3\" class=\"data row2 col3\" >-0.07%</td>\n",
       "                        <td id=\"T_570fb402_0cae_11ea_8e12_17bf479746bcrow2_col4\" class=\"data row2 col4\" >$18.9B</td>\n",
       "                        <td id=\"T_570fb402_0cae_11ea_8e12_17bf479746bcrow2_col5\" class=\"data row2 col5\" >$25.4B</td>\n",
       "            </tr>\n",
       "            <tr>\n",
       "                        <th id=\"T_570fb402_0cae_11ea_8e12_17bf479746bclevel0_row3\" class=\"row_heading level0 row3\" >6</th>\n",
       "                        <td id=\"T_570fb402_0cae_11ea_8e12_17bf479746bcrow3_col0\" class=\"data row3 col0\" >xlm</td>\n",
       "                        <td id=\"T_570fb402_0cae_11ea_8e12_17bf479746bcrow3_col1\" class=\"data row3 col1\" >$0.06</td>\n",
       "                        <td id=\"T_570fb402_0cae_11ea_8e12_17bf479746bcrow3_col2\" class=\"data row3 col2\" >-0.02%</td>\n",
       "                        <td id=\"T_570fb402_0cae_11ea_8e12_17bf479746bcrow3_col3\" class=\"data row3 col3\" >-0.16%</td>\n",
       "                        <td id=\"T_570fb402_0cae_11ea_8e12_17bf479746bcrow3_col4\" class=\"data row3 col4\" >$6.7B</td>\n",
       "                        <td id=\"T_570fb402_0cae_11ea_8e12_17bf479746bcrow3_col5\" class=\"data row3 col5\" >$8.9B</td>\n",
       "            </tr>\n",
       "            <tr>\n",
       "                        <th id=\"T_570fb402_0cae_11ea_8e12_17bf479746bclevel0_row4\" class=\"row_heading level0 row4\" >1</th>\n",
       "                        <td id=\"T_570fb402_0cae_11ea_8e12_17bf479746bcrow4_col0\" class=\"data row4 col0\" >bch</td>\n",
       "                        <td id=\"T_570fb402_0cae_11ea_8e12_17bf479746bcrow4_col1\" class=\"data row4 col1\" >$242.08</td>\n",
       "                        <td id=\"T_570fb402_0cae_11ea_8e12_17bf479746bcrow4_col2\" class=\"data row4 col2\" >0.00%</td>\n",
       "                        <td id=\"T_570fb402_0cae_11ea_8e12_17bf479746bcrow4_col3\" class=\"data row4 col3\" >-0.15%</td>\n",
       "                        <td id=\"T_570fb402_0cae_11ea_8e12_17bf479746bcrow4_col4\" class=\"data row4 col4\" >$4.4B</td>\n",
       "                        <td id=\"T_570fb402_0cae_11ea_8e12_17bf479746bcrow4_col5\" class=\"data row4 col5\" >$5.1B</td>\n",
       "            </tr>\n",
       "            <tr>\n",
       "                        <th id=\"T_570fb402_0cae_11ea_8e12_17bf479746bclevel0_row5\" class=\"row_heading level0 row5\" >8</th>\n",
       "                        <td id=\"T_570fb402_0cae_11ea_8e12_17bf479746bcrow5_col0\" class=\"data row5 col0\" >ltc</td>\n",
       "                        <td id=\"T_570fb402_0cae_11ea_8e12_17bf479746bcrow5_col1\" class=\"data row5 col1\" >$54.83</td>\n",
       "                        <td id=\"T_570fb402_0cae_11ea_8e12_17bf479746bcrow5_col2\" class=\"data row5 col2\" >-0.00%</td>\n",
       "                        <td id=\"T_570fb402_0cae_11ea_8e12_17bf479746bcrow5_col3\" class=\"data row5 col3\" >-0.10%</td>\n",
       "                        <td id=\"T_570fb402_0cae_11ea_8e12_17bf479746bcrow5_col4\" class=\"data row5 col4\" >$3.5B</td>\n",
       "                        <td id=\"T_570fb402_0cae_11ea_8e12_17bf479746bcrow5_col5\" class=\"data row5 col5\" >$4.8B</td>\n",
       "            </tr>\n",
       "            <tr>\n",
       "                        <th id=\"T_570fb402_0cae_11ea_8e12_17bf479746bclevel0_row6\" class=\"row_heading level0 row6\" >3</th>\n",
       "                        <td id=\"T_570fb402_0cae_11ea_8e12_17bf479746bcrow6_col0\" class=\"data row6 col0\" >bnb_mainnet</td>\n",
       "                        <td id=\"T_570fb402_0cae_11ea_8e12_17bf479746bcrow6_col1\" class=\"data row6 col1\" >$18.07</td>\n",
       "                        <td id=\"T_570fb402_0cae_11ea_8e12_17bf479746bcrow6_col2\" class=\"data row6 col2\" >-0.02%</td>\n",
       "                        <td id=\"T_570fb402_0cae_11ea_8e12_17bf479746bcrow6_col3\" class=\"data row6 col3\" >-0.15%</td>\n",
       "                        <td id=\"T_570fb402_0cae_11ea_8e12_17bf479746bcrow6_col4\" class=\"data row6 col4\" >$3.4B</td>\n",
       "                        <td id=\"T_570fb402_0cae_11ea_8e12_17bf479746bcrow6_col5\" class=\"data row6 col5\" >$nanB</td>\n",
       "            </tr>\n",
       "            <tr>\n",
       "                        <th id=\"T_570fb402_0cae_11ea_8e12_17bf479746bclevel0_row7\" class=\"row_heading level0 row7\" >5</th>\n",
       "                        <td id=\"T_570fb402_0cae_11ea_8e12_17bf479746bcrow7_col0\" class=\"data row7 col0\" >link</td>\n",
       "                        <td id=\"T_570fb402_0cae_11ea_8e12_17bf479746bcrow7_col1\" class=\"data row7 col1\" >$2.69</td>\n",
       "                        <td id=\"T_570fb402_0cae_11ea_8e12_17bf479746bcrow7_col2\" class=\"data row7 col2\" >-0.01%</td>\n",
       "                        <td id=\"T_570fb402_0cae_11ea_8e12_17bf479746bcrow7_col3\" class=\"data row7 col3\" >-0.10%</td>\n",
       "                        <td id=\"T_570fb402_0cae_11ea_8e12_17bf479746bcrow7_col4\" class=\"data row7 col4\" >$2.7B</td>\n",
       "                        <td id=\"T_570fb402_0cae_11ea_8e12_17bf479746bcrow7_col5\" class=\"data row7 col5\" >$0.9B</td>\n",
       "            </tr>\n",
       "            <tr>\n",
       "                        <th id=\"T_570fb402_0cae_11ea_8e12_17bf479746bclevel0_row8\" class=\"row_heading level0 row8\" >7</th>\n",
       "                        <td id=\"T_570fb402_0cae_11ea_8e12_17bf479746bcrow8_col0\" class=\"data row8 col0\" >usdt_eth</td>\n",
       "                        <td id=\"T_570fb402_0cae_11ea_8e12_17bf479746bcrow8_col1\" class=\"data row8 col1\" >$1.00</td>\n",
       "                        <td id=\"T_570fb402_0cae_11ea_8e12_17bf479746bcrow8_col2\" class=\"data row8 col2\" >-0.00%</td>\n",
       "                        <td id=\"T_570fb402_0cae_11ea_8e12_17bf479746bcrow8_col3\" class=\"data row8 col3\" >-0.00%</td>\n",
       "                        <td id=\"T_570fb402_0cae_11ea_8e12_17bf479746bcrow8_col4\" class=\"data row8 col4\" >$2.0B</td>\n",
       "                        <td id=\"T_570fb402_0cae_11ea_8e12_17bf479746bcrow8_col5\" class=\"data row8 col5\" >$2.0B</td>\n",
       "            </tr>\n",
       "            <tr>\n",
       "                        <th id=\"T_570fb402_0cae_11ea_8e12_17bf479746bclevel0_row9\" class=\"row_heading level0 row9\" >2</th>\n",
       "                        <td id=\"T_570fb402_0cae_11ea_8e12_17bf479746bcrow9_col0\" class=\"data row9 col0\" >bsv</td>\n",
       "                        <td id=\"T_570fb402_0cae_11ea_8e12_17bf479746bcrow9_col1\" class=\"data row9 col1\" >$105.87</td>\n",
       "                        <td id=\"T_570fb402_0cae_11ea_8e12_17bf479746bcrow9_col2\" class=\"data row9 col2\" >-0.04%</td>\n",
       "                        <td id=\"T_570fb402_0cae_11ea_8e12_17bf479746bcrow9_col3\" class=\"data row9 col3\" >-0.18%</td>\n",
       "                        <td id=\"T_570fb402_0cae_11ea_8e12_17bf479746bcrow9_col4\" class=\"data row9 col4\" >$1.9B</td>\n",
       "                        <td id=\"T_570fb402_0cae_11ea_8e12_17bf479746bcrow9_col5\" class=\"data row9 col5\" >$1.0B</td>\n",
       "            </tr>\n",
       "    </tbody></table>"
      ],
      "text/plain": [
       "<pandas.io.formats.style.Styler at 0x7f816f5620b8>"
      ]
     },
     "execution_count": 9,
     "metadata": {},
     "output_type": "execute_result"
    }
   ],
   "source": [
    "df"
   ]
  },
  {
   "cell_type": "code",
   "execution_count": 10,
   "metadata": {
    "ExecuteTime": {
     "end_time": "2019-11-21T22:29:11.534836Z",
     "start_time": "2019-11-21T22:29:11.289523Z"
    }
   },
   "outputs": [
    {
     "ename": "AttributeError",
     "evalue": "'Styler' object has no attribute 'style'",
     "output_type": "error",
     "traceback": [
      "\u001b[0;31m---------------------------------------------------------------------------\u001b[0m",
      "\u001b[0;31mAttributeError\u001b[0m                            Traceback (most recent call last)",
      "\u001b[0;32m<ipython-input-10-3c506cee7940>\u001b[0m in \u001b[0;36m<module>\u001b[0;34m\u001b[0m\n\u001b[1;32m      5\u001b[0m           'Realized Cap': '${0:,.1f}B'}\n\u001b[1;32m      6\u001b[0m \u001b[0;34m\u001b[0m\u001b[0m\n\u001b[0;32m----> 7\u001b[0;31m \u001b[0mdf\u001b[0m \u001b[0;34m=\u001b[0m \u001b[0mdf\u001b[0m\u001b[0;34m.\u001b[0m\u001b[0mstyle\u001b[0m\u001b[0;34m.\u001b[0m\u001b[0mformat\u001b[0m\u001b[0;34m(\u001b[0m\u001b[0mmapper\u001b[0m\u001b[0;34m)\u001b[0m\u001b[0;34m\u001b[0m\u001b[0;34m\u001b[0m\u001b[0m\n\u001b[0m",
      "\u001b[0;31mAttributeError\u001b[0m: 'Styler' object has no attribute 'style'"
     ]
    }
   ],
   "source": []
  },
  {
   "cell_type": "code",
   "execution_count": null,
   "metadata": {
    "ExecuteTime": {
     "end_time": "2019-11-21T22:29:11.647422Z",
     "start_time": "2019-11-21T22:28:43.865Z"
    }
   },
   "outputs": [],
   "source": [
    "# df.sort_values(by=['Market Cap'], ascending=False, inplace=True)"
   ]
  }
 ],
 "metadata": {
  "kernelspec": {
   "display_name": "Python 3",
   "language": "python",
   "name": "python3"
  },
  "language_info": {
   "codemirror_mode": {
    "name": "ipython",
    "version": 3
   },
   "file_extension": ".py",
   "mimetype": "text/x-python",
   "name": "python",
   "nbconvert_exporter": "python",
   "pygments_lexer": "ipython3",
   "version": "3.6.9"
  },
  "toc": {
   "base_numbering": 1,
   "nav_menu": {},
   "number_sections": true,
   "sideBar": true,
   "skip_h1_title": false,
   "title_cell": "Table of Contents",
   "title_sidebar": "Contents",
   "toc_cell": false,
   "toc_position": {},
   "toc_section_display": true,
   "toc_window_display": false
  },
  "varInspector": {
   "cols": {
    "lenName": 16,
    "lenType": 16,
    "lenVar": 40
   },
   "kernels_config": {
    "python": {
     "delete_cmd_postfix": "",
     "delete_cmd_prefix": "del ",
     "library": "var_list.py",
     "varRefreshCmd": "print(var_dic_list())"
    },
    "r": {
     "delete_cmd_postfix": ") ",
     "delete_cmd_prefix": "rm(",
     "library": "var_list.r",
     "varRefreshCmd": "cat(var_dic_list()) "
    }
   },
   "types_to_exclude": [
    "module",
    "function",
    "builtin_function_or_method",
    "instance",
    "_Feature"
   ],
   "window_display": false
  }
 },
 "nbformat": 4,
 "nbformat_minor": 2
}
