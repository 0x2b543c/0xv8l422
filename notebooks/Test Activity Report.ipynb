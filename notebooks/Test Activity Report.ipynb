{
 "cells": [
  {
   "cell_type": "code",
   "execution_count": null,
   "metadata": {},
   "outputs": [],
   "source": [
    "            %matplotlib inline\n",
    "            import sys\n",
    "            sys.path.append('/workspace')\n",
    "            from IPython.display import clear_output\n",
    "            from modules.Reports.NetworkDataIndividualLineChartsPipe import NetworkDataIndividualLineChartsPipe\n",
    "            "
   ]
  },
  {
   "cell_type": "code",
   "execution_count": null,
   "metadata": {},
   "outputs": [],
   "source": [
    "            clear_output()\n",
    "            api_key = 'KKzV6V2DTY87v3m1dGZu'\n",
    "            asset = 'eth'\n",
    "            report_title='Activity Report'\n",
    "            report = NetworkDataIndividualLineChartsPipe(report_title=report_title, api_key=api_key, asset=asset)\n",
    "            report.run_report(export_types=['figures'])\n",
    "            "
   ]
  }
 ],
 "metadata": {},
 "nbformat": 4,
 "nbformat_minor": 2
}
