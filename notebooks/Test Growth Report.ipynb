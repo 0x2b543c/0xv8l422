{
 "cells": [
  {
   "cell_type": "markdown",
   "metadata": {},
   "source": [
    "Test Growth Report"
   ]
  },
  {
   "cell_type": "code",
   "execution_count": null,
   "metadata": {},
   "outputs": [],
   "source": [
    "            %matplotlib inline\n",
    "            import sys\n",
    "            sys.path.append('/workspace')\n",
    "            from IPython.display import clear_output\n",
    "            from modules.Reports.NDPGrowthComparison import NDPGrowthComparison\n",
    "            "
   ]
  },
  {
   "cell_type": "code",
   "execution_count": null,
   "metadata": {},
   "outputs": [],
   "source": [
    "            clear_output()\n",
    "            api_key = 'KKzV6V2DTY87v3m1dGZu'\n",
    "            assets = ['btc', 'eth', 'ada']\n",
    "            report_title='Test Growth Report'\n",
    "            report = NDPGrowthComparison(report_title=report_title, api_key=api_key, assets=assets)\n",
    "            report.run_report(export_types=['figures'])\n",
    "            "
   ]
  }
 ],
 "metadata": {},
 "nbformat": 4,
 "nbformat_minor": 2
}
