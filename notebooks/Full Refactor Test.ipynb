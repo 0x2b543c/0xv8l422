{
 "cells": [
  {
   "cell_type": "code",
   "execution_count": 1,
   "metadata": {
    "ExecuteTime": {
     "end_time": "2019-11-20T21:38:49.803483Z",
     "start_time": "2019-11-20T21:38:49.295140Z"
    }
   },
   "outputs": [],
   "source": [
    "import pytest\n",
    "import sys\n",
    "import os \n",
    "import pandas as pd\n",
    "import importlib\n",
    "%matplotlib inline\n",
    "sys.path.append('/workspace')\n",
    "pd.set_option('display.max_columns', None)  \n",
    "pd.set_option('display.max_rows', None)  "
   ]
  },
  {
   "cell_type": "code",
   "execution_count": 2,
   "metadata": {
    "ExecuteTime": {
     "end_time": "2019-11-20T21:38:51.178196Z",
     "start_time": "2019-11-20T21:38:49.808412Z"
    }
   },
   "outputs": [
    {
     "ename": "SyntaxError",
     "evalue": "invalid syntax (ReportABC.py, line 30)",
     "output_type": "error",
     "traceback": [
      "Traceback \u001b[0;36m(most recent call last)\u001b[0m:\n",
      "  File \u001b[1;32m\"/opt/conda/lib/python3.6/site-packages/IPython/core/interactiveshell.py\"\u001b[0m, line \u001b[1;32m3325\u001b[0m, in \u001b[1;35mrun_code\u001b[0m\n    exec(code_obj, self.user_global_ns, self.user_ns)\n",
      "  File \u001b[1;32m\"<ipython-input-2-663f9e7a4353>\"\u001b[0m, line \u001b[1;32m3\u001b[0m, in \u001b[1;35m<module>\u001b[0m\n    from modules.Reports.CoinbaseReport import CoinbaseReport\n",
      "\u001b[0;36m  File \u001b[0;32m\"/workspace/modules/Reports/CoinbaseReport.py\"\u001b[0;36m, line \u001b[0;32m1\u001b[0;36m, in \u001b[0;35m<module>\u001b[0;36m\u001b[0m\n\u001b[0;31m    from .ReportABC import Report as Rep\u001b[0m\n",
      "\u001b[0;36m  File \u001b[0;32m\"/workspace/modules/Reports/ReportABC.py\"\u001b[0;36m, line \u001b[0;32m30\u001b[0m\n\u001b[0;31m    section_visuals = [ visual if visual.section == section for visual in self.visuals]\u001b[0m\n\u001b[0m                                                              ^\u001b[0m\n\u001b[0;31mSyntaxError\u001b[0m\u001b[0;31m:\u001b[0m invalid syntax\n"
     ]
    }
   ],
   "source": [
    "from modules.Pipelines.NetworkDataPipe import NetworkDataPipe\n",
    "from modules.Visualizers.LineChart import LineChart\n",
    "from modules.Reports.CoinbaseReport import CoinbaseReport"
   ]
  },
  {
   "cell_type": "code",
   "execution_count": null,
   "metadata": {
    "ExecuteTime": {
     "end_time": "2019-11-20T21:38:51.226717Z",
     "start_time": "2019-11-20T21:38:49.249Z"
    }
   },
   "outputs": [],
   "source": [
    "api_key = 'KKzV6V2DTY87v3m1dGZu'\n",
    "start = '2019-11-01'"
   ]
  },
  {
   "cell_type": "code",
   "execution_count": null,
   "metadata": {
    "ExecuteTime": {
     "end_time": "2019-11-20T21:38:51.250873Z",
     "start_time": "2019-11-20T21:38:49.253Z"
    }
   },
   "outputs": [],
   "source": [
    "df = NetworkDataPipe(api_key=api_key, assets=['btc', 'eth'], metrics=['TxCnt', 'CapRealUSD'], start=start).run()"
   ]
  },
  {
   "cell_type": "code",
   "execution_count": null,
   "metadata": {
    "ExecuteTime": {
     "end_time": "2019-11-20T21:38:51.257672Z",
     "start_time": "2019-11-20T21:38:49.256Z"
    }
   },
   "outputs": [],
   "source": [
    "df.head()"
   ]
  },
  {
   "cell_type": "code",
   "execution_count": null,
   "metadata": {
    "ExecuteTime": {
     "end_time": "2019-11-20T21:38:51.259704Z",
     "start_time": "2019-11-20T21:38:49.262Z"
    }
   },
   "outputs": [],
   "source": [
    "chart = LineChart(_id = 1, df=df, title='Test Chart', y_columns=['btc.TxCnt', 'eth.TxCnt']).run()\n",
    "chart.show()"
   ]
  },
  {
   "cell_type": "code",
   "execution_count": null,
   "metadata": {
    "ExecuteTime": {
     "end_time": "2019-11-20T21:38:51.266996Z",
     "start_time": "2019-11-20T21:38:49.265Z"
    }
   },
   "outputs": [],
   "source": [
    "coinbase_report = CoinbaseReport(title='Coinbase Report', api_key=api_key, asset='btc', start=start).run()"
   ]
  },
  {
   "cell_type": "code",
   "execution_count": null,
   "metadata": {
    "ExecuteTime": {
     "end_time": "2019-11-20T21:38:51.278575Z",
     "start_time": "2019-11-20T21:38:49.273Z"
    }
   },
   "outputs": [],
   "source": [
    "coinbase_report.render_visualizations()"
   ]
  },
  {
   "cell_type": "code",
   "execution_count": null,
   "metadata": {},
   "outputs": [],
   "source": []
  }
 ],
 "metadata": {
  "kernelspec": {
   "display_name": "Python 3",
   "language": "python",
   "name": "python3"
  },
  "language_info": {
   "codemirror_mode": {
    "name": "ipython",
    "version": 3
   },
   "file_extension": ".py",
   "mimetype": "text/x-python",
   "name": "python",
   "nbconvert_exporter": "python",
   "pygments_lexer": "ipython3",
   "version": "3.6.9"
  },
  "toc": {
   "base_numbering": 1,
   "nav_menu": {},
   "number_sections": true,
   "sideBar": true,
   "skip_h1_title": false,
   "title_cell": "Table of Contents",
   "title_sidebar": "Contents",
   "toc_cell": false,
   "toc_position": {},
   "toc_section_display": true,
   "toc_window_display": false
  },
  "varInspector": {
   "cols": {
    "lenName": 16,
    "lenType": 16,
    "lenVar": 40
   },
   "kernels_config": {
    "python": {
     "delete_cmd_postfix": "",
     "delete_cmd_prefix": "del ",
     "library": "var_list.py",
     "varRefreshCmd": "print(var_dic_list())"
    },
    "r": {
     "delete_cmd_postfix": ") ",
     "delete_cmd_prefix": "rm(",
     "library": "var_list.r",
     "varRefreshCmd": "cat(var_dic_list()) "
    }
   },
   "types_to_exclude": [
    "module",
    "function",
    "builtin_function_or_method",
    "instance",
    "_Feature"
   ],
   "window_display": false
  }
 },
 "nbformat": 4,
 "nbformat_minor": 2
}
