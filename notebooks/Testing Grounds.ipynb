{
 "cells": [
  {
   "cell_type": "code",
   "execution_count": 1,
   "metadata": {},
   "outputs": [],
   "source": [
    "import sys\n",
    "sys.path.append('/Users/nmadd/Dropbox (Personal)/code/coin-metrics/research-infrastructure/')\n",
    "%matplotlib inline\n",
    "import pandas as pd"
   ]
  },
  {
   "cell_type": "code",
   "execution_count": 2,
   "metadata": {},
   "outputs": [
    {
     "ename": "SyntaxError",
     "evalue": "invalid syntax (CMDataGroups.py, line 8)",
     "output_type": "error",
     "traceback": [
      "Traceback \u001b[0;36m(most recent call last)\u001b[0m:\n",
      "  File \u001b[1;32m\"/usr/local/lib/python3.6/site-packages/IPython/core/interactiveshell.py\"\u001b[0m, line \u001b[1;32m3265\u001b[0m, in \u001b[1;35mrun_code\u001b[0m\n    exec(code_obj, self.user_global_ns, self.user_ns)\n",
      "\u001b[0;36m  File \u001b[0;32m\"<ipython-input-2-7ff7dd4217f8>\"\u001b[0;36m, line \u001b[0;32m2\u001b[0;36m, in \u001b[0;35m<module>\u001b[0;36m\u001b[0m\n\u001b[0;31m    from modules.DataLoaders.CMDataGroups import CMDataGroups\u001b[0m\n",
      "\u001b[0;36m  File \u001b[0;32m\"/Users/nmadd/Dropbox (Personal)/code/coin-metrics/research-infrastructure/modules/DataLoaders/CMDataGroups.py\"\u001b[0;36m, line \u001b[0;32m8\u001b[0m\n\u001b[0;31m    asset_groups =\u001b[0m\n\u001b[0m                   ^\u001b[0m\n\u001b[0;31mSyntaxError\u001b[0m\u001b[0;31m:\u001b[0m invalid syntax\n"
     ]
    }
   ],
   "source": [
    "from modules.DataLoaders.CoinMetricsAPI.NetworkDataAPI import NetworkDataAPI\n",
    "from modules.DataLoaders.CMDataGroups import CMDataGroups"
   ]
  },
  {
   "cell_type": "code",
   "execution_count": null,
   "metadata": {},
   "outputs": [],
   "source": [
    "_api = NetworkDataAPI()\n",
    "_groups = CMDataGroups()"
   ]
  },
  {
   "cell_type": "code",
   "execution_count": null,
   "metadata": {},
   "outputs": [],
   "source": [
    "stablecoins = _groups.get_asset_groups(group_name='stablecoins')\n",
    "usage = _groups.get_metric_groups(group_name='usage')"
   ]
  },
  {
   "cell_type": "code",
   "execution_count": null,
   "metadata": {},
   "outputs": [],
   "source": [
    "api_key = 'X3lotGijS27jky7bhO3t'\n",
    "assets = stablecoins \n",
    "metrics = usage\n",
    "start = '2019-01-01'\n",
    "end = '2019-01-07'\n",
    "\n",
    "_api.get_coinmetrics_network_data(api_key=api_key, assets=assets, metrics=metrics, start=start, end=end)"
   ]
  },
  {
   "cell_type": "code",
   "execution_count": null,
   "metadata": {},
   "outputs": [],
   "source": []
  }
 ],
 "metadata": {
  "kernelspec": {
   "display_name": "Python 3",
   "language": "python",
   "name": "python3"
  },
  "language_info": {
   "codemirror_mode": {
    "name": "ipython",
    "version": 3
   },
   "file_extension": ".py",
   "mimetype": "text/x-python",
   "name": "python",
   "nbconvert_exporter": "python",
   "pygments_lexer": "ipython3",
   "version": "3.6.5"
  }
 },
 "nbformat": 4,
 "nbformat_minor": 2
}
