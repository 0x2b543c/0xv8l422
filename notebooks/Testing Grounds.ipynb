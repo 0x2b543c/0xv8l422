{
 "cells": [
  {
   "cell_type": "code",
   "execution_count": 1,
   "metadata": {},
   "outputs": [],
   "source": [
    "import sys\n",
    "sys.path.append('/Users/nmadd/Dropbox (Personal)/code/coin-metrics/research-infrastructure/')\n",
    "%matplotlib inline\n",
    "import pandas as pd"
   ]
  },
  {
   "cell_type": "code",
   "execution_count": 2,
   "metadata": {},
   "outputs": [],
   "source": [
    "from modules.DataLoaders.CoinMetricsAPI.NetworkDataAPI import NetworkDataAPI\n",
    "from modules.DataLoaders.CMDataGroups import CMDataGroups\n",
    "from modules.Visualizers.LineChart import LineChart\n",
    "from modules.Visualizers.SubPlot import SubPlot\n",
    "from modules.Visualizers.utils import create_network_data_chart\n",
    "from modules.Visualizers.utils import create_multiple_network_data_charts\n",
    "from modules.Transformers.DateWindow import DateWindow"
   ]
  },
  {
   "cell_type": "code",
   "execution_count": 3,
   "metadata": {},
   "outputs": [],
   "source": [
    "_api = NetworkDataAPI()\n",
    "_groups = CMDataGroups()"
   ]
  },
  {
   "cell_type": "code",
   "execution_count": 4,
   "metadata": {},
   "outputs": [],
   "source": [
    "api_key = 'X3lotGijS27jky7bhO3t'\n",
    "assets = ['btc', 'eth']\n",
    "metrics = ['ThermoToMarketCap']\n",
    "start = '2019-01-01'\n",
    "end = None\n",
    "\n",
    "df = _api.get_coinmetrics_network_data(api_key=api_key, assets=assets, metrics=metrics, start=start, end=end)"
   ]
  },
  {
   "cell_type": "code",
   "execution_count": 5,
   "metadata": {},
   "outputs": [
    {
     "data": {
      "text/html": [
       "<div>\n",
       "<style scoped>\n",
       "    .dataframe tbody tr th:only-of-type {\n",
       "        vertical-align: middle;\n",
       "    }\n",
       "\n",
       "    .dataframe tbody tr th {\n",
       "        vertical-align: top;\n",
       "    }\n",
       "\n",
       "    .dataframe thead th {\n",
       "        text-align: right;\n",
       "    }\n",
       "</style>\n",
       "<table border=\"1\" class=\"dataframe\">\n",
       "  <thead>\n",
       "    <tr style=\"text-align: right;\">\n",
       "      <th></th>\n",
       "      <th>eth.RevAllTimeUSD</th>\n",
       "      <th>eth.CapMrktCurUSD</th>\n",
       "      <th>btc.RevAllTimeUSD</th>\n",
       "      <th>btc.CapMrktCurUSD</th>\n",
       "      <th>btc.ThermoToMarketCap</th>\n",
       "      <th>eth.ThermoToMarketCap</th>\n",
       "    </tr>\n",
       "  </thead>\n",
       "  <tbody>\n",
       "    <tr>\n",
       "      <th>2019-01-01</th>\n",
       "      <td>5.698387e+09</td>\n",
       "      <td>1.449195e+10</td>\n",
       "      <td>1.094527e+10</td>\n",
       "      <td>6.648014e+10</td>\n",
       "      <td>0.164640</td>\n",
       "      <td>0.393211</td>\n",
       "    </tr>\n",
       "    <tr>\n",
       "      <th>2019-01-02</th>\n",
       "      <td>5.701393e+09</td>\n",
       "      <td>1.608534e+10</td>\n",
       "      <td>1.095270e+10</td>\n",
       "      <td>6.806006e+10</td>\n",
       "      <td>0.160927</td>\n",
       "      <td>0.354446</td>\n",
       "    </tr>\n",
       "    <tr>\n",
       "      <th>2019-01-03</th>\n",
       "      <td>5.704079e+09</td>\n",
       "      <td>1.532090e+10</td>\n",
       "      <td>1.096011e+10</td>\n",
       "      <td>6.608036e+10</td>\n",
       "      <td>0.165860</td>\n",
       "      <td>0.372307</td>\n",
       "    </tr>\n",
       "    <tr>\n",
       "      <th>2019-01-04</th>\n",
       "      <td>5.706870e+09</td>\n",
       "      <td>1.598834e+10</td>\n",
       "      <td>1.096731e+10</td>\n",
       "      <td>6.684070e+10</td>\n",
       "      <td>0.164081</td>\n",
       "      <td>0.356940</td>\n",
       "    </tr>\n",
       "    <tr>\n",
       "      <th>2019-01-05</th>\n",
       "      <td>5.709727e+09</td>\n",
       "      <td>1.608066e+10</td>\n",
       "      <td>1.097510e+10</td>\n",
       "      <td>6.634357e+10</td>\n",
       "      <td>0.165428</td>\n",
       "      <td>0.355068</td>\n",
       "    </tr>\n",
       "  </tbody>\n",
       "</table>\n",
       "</div>"
      ],
      "text/plain": [
       "            eth.RevAllTimeUSD  eth.CapMrktCurUSD  btc.RevAllTimeUSD  \\\n",
       "2019-01-01       5.698387e+09       1.449195e+10       1.094527e+10   \n",
       "2019-01-02       5.701393e+09       1.608534e+10       1.095270e+10   \n",
       "2019-01-03       5.704079e+09       1.532090e+10       1.096011e+10   \n",
       "2019-01-04       5.706870e+09       1.598834e+10       1.096731e+10   \n",
       "2019-01-05       5.709727e+09       1.608066e+10       1.097510e+10   \n",
       "\n",
       "            btc.CapMrktCurUSD  btc.ThermoToMarketCap  eth.ThermoToMarketCap  \n",
       "2019-01-01       6.648014e+10               0.164640               0.393211  \n",
       "2019-01-02       6.806006e+10               0.160927               0.354446  \n",
       "2019-01-03       6.608036e+10               0.165860               0.372307  \n",
       "2019-01-04       6.684070e+10               0.164081               0.356940  \n",
       "2019-01-05       6.634357e+10               0.165428               0.355068  "
      ]
     },
     "execution_count": 5,
     "metadata": {},
     "output_type": "execute_result"
    }
   ],
   "source": [
    "df.head()"
   ]
  },
  {
   "cell_type": "code",
   "execution_count": null,
   "metadata": {},
   "outputs": [],
   "source": [
    "usage = _groups.get_metric_group(group_name='usage')\n",
    "security = _groups.get_metric_group(group_name='security')\n",
    "economics = _groups.get_metric_group(group_name='economics')\n",
    "valuation = _groups.get_metric_group(group_name='valuation')\n",
    "all_metrics = usage + security + economics + valuation"
   ]
  },
  {
   "cell_type": "code",
   "execution_count": null,
   "metadata": {},
   "outputs": [],
   "source": [
    "network_data_sample = _groups.get_asset_group(group_name='network-data-sample')\n",
    "stablecoins = _groups.get_asset_group(group_name='stablecoins')"
   ]
  },
  {
   "cell_type": "code",
   "execution_count": null,
   "metadata": {},
   "outputs": [],
   "source": [
    "stablecoins"
   ]
  },
  {
   "cell_type": "code",
   "execution_count": null,
   "metadata": {},
   "outputs": [],
   "source": [
    "api_key = 'X3lotGijS27jky7bhO3t'\n",
    "assets = network_data_sample\n",
    "metrics = all_metrics\n",
    "start = '2017-01-01'\n",
    "end = None\n",
    "\n",
    "df = _api.get_coinmetrics_network_data(api_key=api_key, assets=assets, metrics=metrics, start=start, end=end)"
   ]
  },
  {
   "cell_type": "code",
   "execution_count": null,
   "metadata": {
    "scrolled": false
   },
   "outputs": [],
   "source": [
    "# df = DateWindow(date_window='1y').transform(df)"
   ]
  },
  {
   "cell_type": "code",
   "execution_count": null,
   "metadata": {},
   "outputs": [],
   "source": [
    "df.head(30)"
   ]
  },
  {
   "cell_type": "code",
   "execution_count": null,
   "metadata": {
    "scrolled": false
   },
   "outputs": [],
   "source": []
  },
  {
   "cell_type": "code",
   "execution_count": null,
   "metadata": {},
   "outputs": [],
   "source": [
    "title = 'Active Addresses'\n",
    "growth = False\n",
    "filled_area = False\n",
    "stacked = False\n",
    "seven_day_rolling_average = False\n",
    "assets = ['btc', 'eth', 'ltc']\n",
    "metrics = ['TxCnt']\n",
    "# start = '2018-01-01'\n",
    "# end = '2020-01-01'\n",
    "fig = create_network_data_chart(df=df, chart_type='line', title=title, assets=assets, metrics=metrics, start=start, end=end, growth=growth, filled_area=filled_area, stacked=stacked, seven_day_rolling_average=seven_day_rolling_average).run()\n",
    "fig.show()"
   ]
  },
  {
   "cell_type": "code",
   "execution_count": null,
   "metadata": {},
   "outputs": [],
   "source": [
    "title = 'Market Cap'\n",
    "growth = False\n",
    "filled_area = True\n",
    "stacked = True\n",
    "seven_day_rolling_average = False\n",
    "assets = ['btc', 'eth', 'ltc', 'bch', 'bsv']\n",
    "metrics = ['CapMrktCurUSD']\n",
    "start='2019-01-01'\n",
    "end='2020-01-01'\n",
    "fig = LineChart(df=df, title=title, assets=assets, metrics=metrics, start=start, end=end, growth=growth, filled_area=filled_area, stacked=stacked, seven_day_rolling_average=seven_day_rolling_average).run()\n",
    "fig.show()"
   ]
  },
  {
   "cell_type": "code",
   "execution_count": null,
   "metadata": {
    "scrolled": false
   },
   "outputs": [],
   "source": [
    "title = 'Transaction Counts'\n",
    "subplot_titles = 'assets'\n",
    "growth = False\n",
    "seven_day_rolling_average = False\n",
    "assets = ['btc', 'eth', 'ltc', 'bch', 'dcr'] \n",
    "metrics = ['TxCnt']\n",
    "start='2019-01-01'\n",
    "end='2020-01-01'\n",
    "showlegend = False\n",
    "fig = SubPlot(df=df, title=title, subplot_titles=subplot_titles, showlegend=showlegend, assets=assets, metrics=metrics, start=start, end=end, growth=growth, seven_day_rolling_average=seven_day_rolling_average).run()\n",
    "fig.show()"
   ]
  },
  {
   "cell_type": "code",
   "execution_count": null,
   "metadata": {
    "scrolled": false
   },
   "outputs": [],
   "source": [
    "title = 'Test Subplot 2'\n",
    "chart_type ='line'\n",
    "subplot_titles = 'assets'\n",
    "split_charts_by = 'metrics'\n",
    "growth = False\n",
    "filled_area = False\n",
    "stacked = False\n",
    "seven_day_rolling_average = True\n",
    "assets = ['eth', 'btc', 'ltc', 'bch']\n",
    "metrics = usage\n",
    "start='2019-01-01'\n",
    "end='2020-01-01'\n",
    "charts = create_multiple_network_data_charts(chart_type=chart_type, split_charts_by=split_charts_by, df=df, title=title, assets=assets, metrics=metrics, start=start, end=end, growth=growth, filled_area=filled_area, stacked=stacked, seven_day_rolling_average=seven_day_rolling_average)\n",
    "[fig.show() for fig in charts]"
   ]
  },
  {
   "cell_type": "code",
   "execution_count": null,
   "metadata": {
    "scrolled": false
   },
   "outputs": [],
   "source": [
    "# title = 'Test Chart 3'\n",
    "# chart_type ='line'\n",
    "# split_charts_by='metrics'\n",
    "# growth = True\n",
    "# filled_area = False\n",
    "# stacked = False\n",
    "# seven_day_rolling_average = False\n",
    "# assets = ['eth', 'btc', 'ltc']\n",
    "# metrics = usage\n",
    "# start='2019-02-01'\n",
    "# end='2019-05-01'\n",
    "# charts = create_multiple_network_data_charts(split_charts_by=split_charts_by, chart_type=chart_type, df=df, title=title, assets=assets, metrics=metrics, start=start, end=end, growth=growth, filled_area=filled_area, stacked=stacked, seven_day_rolling_average=seven_day_rolling_average)\n",
    "# [fig.show() for fig in charts]"
   ]
  },
  {
   "cell_type": "code",
   "execution_count": null,
   "metadata": {},
   "outputs": [],
   "source": []
  }
 ],
 "metadata": {
  "kernelspec": {
   "display_name": "Python 3",
   "language": "python",
   "name": "python3"
  },
  "language_info": {
   "codemirror_mode": {
    "name": "ipython",
    "version": 3
   },
   "file_extension": ".py",
   "mimetype": "text/x-python",
   "name": "python",
   "nbconvert_exporter": "python",
   "pygments_lexer": "ipython3",
   "version": "3.6.5"
  }
 },
 "nbformat": 4,
 "nbformat_minor": 2
}
