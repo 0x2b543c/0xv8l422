{
 "cells": [
  {
   "cell_type": "code",
   "execution_count": 1,
   "metadata": {},
   "outputs": [],
   "source": [
    "import sys\n",
    "sys.path.append('/Users/nmadd/Dropbox (Personal)/code/coin-metrics/research-infrastructure/')\n",
    "%matplotlib inline\n",
    "import pandas as pd"
   ]
  },
  {
   "cell_type": "code",
   "execution_count": 2,
   "metadata": {},
   "outputs": [],
   "source": [
    "from modules.DataLoaders.CoinMetricsAPI.NetworkDataAPI import NetworkDataAPI\n",
    "from modules.DataLoaders.CMDataGroups import CMDataGroups\n",
    "from modules.Visualizers.LineChart import LineChart\n",
    "from modules.Visualizers.SubPlot import SubPlot\n",
    "from modules.Visualizers.utils import create_network_data_chart\n",
    "from modules.Visualizers.utils import create_multiple_network_data_charts\n",
    "from modules.Transformers.DateWindow import DateWindow"
   ]
  },
  {
   "cell_type": "code",
   "execution_count": 3,
   "metadata": {},
   "outputs": [],
   "source": [
    "_api = NetworkDataAPI()\n",
    "_groups = CMDataGroups()"
   ]
  },
  {
   "cell_type": "code",
   "execution_count": 4,
   "metadata": {},
   "outputs": [],
   "source": [
    "api_key = 'X3lotGijS27jky7bhO3t'\n",
    "assets = ['stablecoins']\n",
    "metrics = ['TxCnt','TxTfrCnt']\n",
    "start = '2019-01-01'\n",
    "end = None\n",
    "\n",
    "df = _api.get_coinmetrics_network_data(api_key=api_key, assets=assets, metrics=metrics, start=start, end=end)"
   ]
  },
  {
   "cell_type": "code",
   "execution_count": 5,
   "metadata": {},
   "outputs": [
    {
     "data": {
      "text/html": [
       "<div>\n",
       "<style scoped>\n",
       "    .dataframe tbody tr th:only-of-type {\n",
       "        vertical-align: middle;\n",
       "    }\n",
       "\n",
       "    .dataframe tbody tr th {\n",
       "        vertical-align: top;\n",
       "    }\n",
       "\n",
       "    .dataframe thead th {\n",
       "        text-align: right;\n",
       "    }\n",
       "</style>\n",
       "<table border=\"1\" class=\"dataframe\">\n",
       "  <thead>\n",
       "    <tr style=\"text-align: right;\">\n",
       "      <th></th>\n",
       "      <th>usdt_trx.TxCnt</th>\n",
       "      <th>usdt_trx.TxTfrCnt</th>\n",
       "      <th>tusd.TxCnt</th>\n",
       "      <th>tusd.TxTfrCnt</th>\n",
       "      <th>dai.TxCnt</th>\n",
       "      <th>dai.TxTfrCnt</th>\n",
       "      <th>gusd.TxCnt</th>\n",
       "      <th>gusd.TxTfrCnt</th>\n",
       "      <th>usdt_eth.TxCnt</th>\n",
       "      <th>usdt_eth.TxTfrCnt</th>\n",
       "      <th>usdc.TxCnt</th>\n",
       "      <th>usdc.TxTfrCnt</th>\n",
       "      <th>usdt.TxCnt</th>\n",
       "      <th>usdt.TxTfrCnt</th>\n",
       "      <th>pax.TxCnt</th>\n",
       "      <th>pax.TxTfrCnt</th>\n",
       "      <th>stablecoins.TxCnt</th>\n",
       "      <th>stablecoins.TxTfrCnt</th>\n",
       "    </tr>\n",
       "  </thead>\n",
       "  <tbody>\n",
       "    <tr>\n",
       "      <th>2019-01-01</th>\n",
       "      <td>NaN</td>\n",
       "      <td>NaN</td>\n",
       "      <td>568.0</td>\n",
       "      <td>588.0</td>\n",
       "      <td>1507.0</td>\n",
       "      <td>1975.0</td>\n",
       "      <td>83.0</td>\n",
       "      <td>83.0</td>\n",
       "      <td>68.0</td>\n",
       "      <td>68.0</td>\n",
       "      <td>893.0</td>\n",
       "      <td>933.0</td>\n",
       "      <td>9951.0</td>\n",
       "      <td>9926.0</td>\n",
       "      <td>142.0</td>\n",
       "      <td>142.0</td>\n",
       "      <td>13212.0</td>\n",
       "      <td>13715.0</td>\n",
       "    </tr>\n",
       "    <tr>\n",
       "      <th>2019-01-02</th>\n",
       "      <td>NaN</td>\n",
       "      <td>NaN</td>\n",
       "      <td>902.0</td>\n",
       "      <td>935.0</td>\n",
       "      <td>3290.0</td>\n",
       "      <td>4458.0</td>\n",
       "      <td>158.0</td>\n",
       "      <td>156.0</td>\n",
       "      <td>154.0</td>\n",
       "      <td>153.0</td>\n",
       "      <td>1197.0</td>\n",
       "      <td>1235.0</td>\n",
       "      <td>15153.0</td>\n",
       "      <td>15149.0</td>\n",
       "      <td>286.0</td>\n",
       "      <td>284.0</td>\n",
       "      <td>21140.0</td>\n",
       "      <td>22370.0</td>\n",
       "    </tr>\n",
       "    <tr>\n",
       "      <th>2019-01-03</th>\n",
       "      <td>NaN</td>\n",
       "      <td>NaN</td>\n",
       "      <td>819.0</td>\n",
       "      <td>852.0</td>\n",
       "      <td>2856.0</td>\n",
       "      <td>4043.0</td>\n",
       "      <td>136.0</td>\n",
       "      <td>135.0</td>\n",
       "      <td>142.0</td>\n",
       "      <td>141.0</td>\n",
       "      <td>1307.0</td>\n",
       "      <td>1356.0</td>\n",
       "      <td>16284.0</td>\n",
       "      <td>16277.0</td>\n",
       "      <td>191.0</td>\n",
       "      <td>190.0</td>\n",
       "      <td>21735.0</td>\n",
       "      <td>22994.0</td>\n",
       "    </tr>\n",
       "    <tr>\n",
       "      <th>2019-01-04</th>\n",
       "      <td>NaN</td>\n",
       "      <td>NaN</td>\n",
       "      <td>656.0</td>\n",
       "      <td>693.0</td>\n",
       "      <td>2772.0</td>\n",
       "      <td>3520.0</td>\n",
       "      <td>125.0</td>\n",
       "      <td>129.0</td>\n",
       "      <td>116.0</td>\n",
       "      <td>116.0</td>\n",
       "      <td>1211.0</td>\n",
       "      <td>1247.0</td>\n",
       "      <td>15639.0</td>\n",
       "      <td>15635.0</td>\n",
       "      <td>207.0</td>\n",
       "      <td>206.0</td>\n",
       "      <td>20726.0</td>\n",
       "      <td>21546.0</td>\n",
       "    </tr>\n",
       "    <tr>\n",
       "      <th>2019-01-05</th>\n",
       "      <td>NaN</td>\n",
       "      <td>NaN</td>\n",
       "      <td>604.0</td>\n",
       "      <td>641.0</td>\n",
       "      <td>2685.0</td>\n",
       "      <td>3648.0</td>\n",
       "      <td>209.0</td>\n",
       "      <td>210.0</td>\n",
       "      <td>91.0</td>\n",
       "      <td>91.0</td>\n",
       "      <td>878.0</td>\n",
       "      <td>917.0</td>\n",
       "      <td>12884.0</td>\n",
       "      <td>12884.0</td>\n",
       "      <td>164.0</td>\n",
       "      <td>164.0</td>\n",
       "      <td>17515.0</td>\n",
       "      <td>18555.0</td>\n",
       "    </tr>\n",
       "  </tbody>\n",
       "</table>\n",
       "</div>"
      ],
      "text/plain": [
       "            usdt_trx.TxCnt  usdt_trx.TxTfrCnt  tusd.TxCnt  tusd.TxTfrCnt  \\\n",
       "2019-01-01             NaN                NaN       568.0          588.0   \n",
       "2019-01-02             NaN                NaN       902.0          935.0   \n",
       "2019-01-03             NaN                NaN       819.0          852.0   \n",
       "2019-01-04             NaN                NaN       656.0          693.0   \n",
       "2019-01-05             NaN                NaN       604.0          641.0   \n",
       "\n",
       "            dai.TxCnt  dai.TxTfrCnt  gusd.TxCnt  gusd.TxTfrCnt  \\\n",
       "2019-01-01     1507.0        1975.0        83.0           83.0   \n",
       "2019-01-02     3290.0        4458.0       158.0          156.0   \n",
       "2019-01-03     2856.0        4043.0       136.0          135.0   \n",
       "2019-01-04     2772.0        3520.0       125.0          129.0   \n",
       "2019-01-05     2685.0        3648.0       209.0          210.0   \n",
       "\n",
       "            usdt_eth.TxCnt  usdt_eth.TxTfrCnt  usdc.TxCnt  usdc.TxTfrCnt  \\\n",
       "2019-01-01            68.0               68.0       893.0          933.0   \n",
       "2019-01-02           154.0              153.0      1197.0         1235.0   \n",
       "2019-01-03           142.0              141.0      1307.0         1356.0   \n",
       "2019-01-04           116.0              116.0      1211.0         1247.0   \n",
       "2019-01-05            91.0               91.0       878.0          917.0   \n",
       "\n",
       "            usdt.TxCnt  usdt.TxTfrCnt  pax.TxCnt  pax.TxTfrCnt  \\\n",
       "2019-01-01      9951.0         9926.0      142.0         142.0   \n",
       "2019-01-02     15153.0        15149.0      286.0         284.0   \n",
       "2019-01-03     16284.0        16277.0      191.0         190.0   \n",
       "2019-01-04     15639.0        15635.0      207.0         206.0   \n",
       "2019-01-05     12884.0        12884.0      164.0         164.0   \n",
       "\n",
       "            stablecoins.TxCnt  stablecoins.TxTfrCnt  \n",
       "2019-01-01            13212.0               13715.0  \n",
       "2019-01-02            21140.0               22370.0  \n",
       "2019-01-03            21735.0               22994.0  \n",
       "2019-01-04            20726.0               21546.0  \n",
       "2019-01-05            17515.0               18555.0  "
      ]
     },
     "execution_count": 5,
     "metadata": {},
     "output_type": "execute_result"
    }
   ],
   "source": [
    "df.head()"
   ]
  },
  {
   "cell_type": "code",
   "execution_count": null,
   "metadata": {},
   "outputs": [],
   "source": [
    "usage = _groups.get_metric_group(group_name='usage')\n",
    "security = _groups.get_metric_group(group_name='security')\n",
    "economics = _groups.get_metric_group(group_name='economics')\n",
    "valuation = _groups.get_metric_group(group_name='valuation')\n",
    "all_metrics = usage + security + economics + valuation"
   ]
  },
  {
   "cell_type": "code",
   "execution_count": null,
   "metadata": {},
   "outputs": [],
   "source": [
    "network_data_sample = _groups.get_asset_group(group_name='network-data-sample')\n",
    "stablecoins = _groups.get_asset_group(group_name='stablecoins')"
   ]
  },
  {
   "cell_type": "code",
   "execution_count": null,
   "metadata": {},
   "outputs": [],
   "source": [
    "stablecoins"
   ]
  },
  {
   "cell_type": "code",
   "execution_count": null,
   "metadata": {},
   "outputs": [],
   "source": [
    "api_key = 'X3lotGijS27jky7bhO3t'\n",
    "assets = network_data_sample\n",
    "metrics = all_metrics\n",
    "start = '2017-01-01'\n",
    "end = None\n",
    "\n",
    "df = _api.get_coinmetrics_network_data(api_key=api_key, assets=assets, metrics=metrics, start=start, end=end)"
   ]
  },
  {
   "cell_type": "code",
   "execution_count": null,
   "metadata": {
    "scrolled": false
   },
   "outputs": [],
   "source": [
    "# df = DateWindow(date_window='1y').transform(df)"
   ]
  },
  {
   "cell_type": "code",
   "execution_count": null,
   "metadata": {},
   "outputs": [],
   "source": [
    "df.head(30)"
   ]
  },
  {
   "cell_type": "code",
   "execution_count": null,
   "metadata": {
    "scrolled": false
   },
   "outputs": [],
   "source": []
  },
  {
   "cell_type": "code",
   "execution_count": null,
   "metadata": {},
   "outputs": [],
   "source": [
    "title = 'Active Addresses'\n",
    "growth = False\n",
    "filled_area = False\n",
    "stacked = False\n",
    "seven_day_rolling_average = False\n",
    "assets = ['btc', 'eth', 'ltc']\n",
    "metrics = ['TxCnt']\n",
    "# start = '2018-01-01'\n",
    "# end = '2020-01-01'\n",
    "fig = create_network_data_chart(df=df, chart_type='line', title=title, assets=assets, metrics=metrics, start=start, end=end, growth=growth, filled_area=filled_area, stacked=stacked, seven_day_rolling_average=seven_day_rolling_average).run()\n",
    "fig.show()"
   ]
  },
  {
   "cell_type": "code",
   "execution_count": null,
   "metadata": {},
   "outputs": [],
   "source": [
    "title = 'Market Cap'\n",
    "growth = False\n",
    "filled_area = True\n",
    "stacked = True\n",
    "seven_day_rolling_average = False\n",
    "assets = ['btc', 'eth', 'ltc', 'bch', 'bsv']\n",
    "metrics = ['CapMrktCurUSD']\n",
    "start='2019-01-01'\n",
    "end='2020-01-01'\n",
    "fig = LineChart(df=df, title=title, assets=assets, metrics=metrics, start=start, end=end, growth=growth, filled_area=filled_area, stacked=stacked, seven_day_rolling_average=seven_day_rolling_average).run()\n",
    "fig.show()"
   ]
  },
  {
   "cell_type": "code",
   "execution_count": null,
   "metadata": {
    "scrolled": false
   },
   "outputs": [],
   "source": [
    "title = 'Transaction Counts'\n",
    "subplot_titles = 'assets'\n",
    "growth = False\n",
    "seven_day_rolling_average = False\n",
    "assets = ['btc', 'eth', 'ltc', 'bch', 'dcr'] \n",
    "metrics = ['TxCnt']\n",
    "start='2019-01-01'\n",
    "end='2020-01-01'\n",
    "showlegend = False\n",
    "fig = SubPlot(df=df, title=title, subplot_titles=subplot_titles, showlegend=showlegend, assets=assets, metrics=metrics, start=start, end=end, growth=growth, seven_day_rolling_average=seven_day_rolling_average).run()\n",
    "fig.show()"
   ]
  },
  {
   "cell_type": "code",
   "execution_count": null,
   "metadata": {
    "scrolled": false
   },
   "outputs": [],
   "source": [
    "title = 'Test Subplot 2'\n",
    "chart_type ='line'\n",
    "subplot_titles = 'assets'\n",
    "split_charts_by = 'metrics'\n",
    "growth = False\n",
    "filled_area = False\n",
    "stacked = False\n",
    "seven_day_rolling_average = True\n",
    "assets = ['eth', 'btc', 'ltc', 'bch']\n",
    "metrics = usage\n",
    "start='2019-01-01'\n",
    "end='2020-01-01'\n",
    "charts = create_multiple_network_data_charts(chart_type=chart_type, split_charts_by=split_charts_by, df=df, title=title, assets=assets, metrics=metrics, start=start, end=end, growth=growth, filled_area=filled_area, stacked=stacked, seven_day_rolling_average=seven_day_rolling_average)\n",
    "[fig.show() for fig in charts]"
   ]
  },
  {
   "cell_type": "code",
   "execution_count": null,
   "metadata": {
    "scrolled": false
   },
   "outputs": [],
   "source": [
    "# title = 'Test Chart 3'\n",
    "# chart_type ='line'\n",
    "# split_charts_by='metrics'\n",
    "# growth = True\n",
    "# filled_area = False\n",
    "# stacked = False\n",
    "# seven_day_rolling_average = False\n",
    "# assets = ['eth', 'btc', 'ltc']\n",
    "# metrics = usage\n",
    "# start='2019-02-01'\n",
    "# end='2019-05-01'\n",
    "# charts = create_multiple_network_data_charts(split_charts_by=split_charts_by, chart_type=chart_type, df=df, title=title, assets=assets, metrics=metrics, start=start, end=end, growth=growth, filled_area=filled_area, stacked=stacked, seven_day_rolling_average=seven_day_rolling_average)\n",
    "# [fig.show() for fig in charts]"
   ]
  },
  {
   "cell_type": "code",
   "execution_count": null,
   "metadata": {},
   "outputs": [],
   "source": []
  }
 ],
 "metadata": {
  "kernelspec": {
   "display_name": "Python 3",
   "language": "python",
   "name": "python3"
  },
  "language_info": {
   "codemirror_mode": {
    "name": "ipython",
    "version": 3
   },
   "file_extension": ".py",
   "mimetype": "text/x-python",
   "name": "python",
   "nbconvert_exporter": "python",
   "pygments_lexer": "ipython3",
   "version": "3.6.5"
  }
 },
 "nbformat": 4,
 "nbformat_minor": 2
}
