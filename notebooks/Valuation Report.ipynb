{
 "cells": [
  {
   "cell_type": "code",
   "execution_count": null,
   "metadata": {},
   "outputs": [],
   "source": [
    "            %matplotlib inline\n",
    "            import sys\n",
    "            sys.path.append('/workspace')\n",
    "\n",
    "            from modules.Reports.ValuationReport import ValuationReport"
   ]
  },
  {
   "cell_type": "code",
   "execution_count": null,
   "metadata": {},
   "outputs": [],
   "source": [
    "            api_key = ''\n",
    "            asset = 'eth'\n",
    "            report_title='\n",
    "            report = ValuationReport(report_title=report_title, api_key=api_key, asset=asset)\n",
    "            report.run_report()"
   ]
  }
 ],
 "metadata": {},
 "nbformat": 4,
 "nbformat_minor": 2
}
