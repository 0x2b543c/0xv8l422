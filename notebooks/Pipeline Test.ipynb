{
 "cells": [
  {
   "cell_type": "code",
   "execution_count": 1,
   "metadata": {
    "ExecuteTime": {
     "end_time": "2019-11-01T22:02:12.884738Z",
     "start_time": "2019-11-01T22:02:12.536769Z"
    }
   },
   "outputs": [],
   "source": [
    "import pytest\n",
    "import sys\n",
    "import os \n",
    "import pandas as pd\n",
    "import importlib\n",
    "%matplotlib inline\n",
    "sys.path.append('/workspace')\n",
    "pd.set_option('display.max_columns', None)  \n",
    "pd.set_option('display.max_rows', None)  "
   ]
  },
  {
   "cell_type": "code",
   "execution_count": 2,
   "metadata": {
    "ExecuteTime": {
     "end_time": "2019-11-01T22:02:13.180580Z",
     "start_time": "2019-11-01T22:02:12.887064Z"
    }
   },
   "outputs": [],
   "source": [
    "from modules.Pipelines.FlowsPipe import FlowsPipe\n",
    "from modules.Transformers.FlowIncidentsExtractor import FlowIncidentsExtractor"
   ]
  },
  {
   "cell_type": "code",
   "execution_count": 3,
   "metadata": {
    "ExecuteTime": {
     "end_time": "2019-11-01T22:02:13.977999Z",
     "start_time": "2019-11-01T22:02:13.183381Z"
    }
   },
   "outputs": [],
   "source": [
    "    api_key = 'KKzV6V2DTY87v3m1dGZu'\n",
    "    exchange = 'HUO'\n",
    "    assets = ['btc']\n",
    "    start = '2017-01-01'\n",
    "    pipe = FlowsPipe(api_key=api_key, exchange=exchange, assets=assets, start=start)\n",
    "    df = pipe.run_pipeline().get_data()"
   ]
  },
  {
   "cell_type": "code",
   "execution_count": 4,
   "metadata": {
    "ExecuteTime": {
     "end_time": "2019-11-01T22:02:14.014118Z",
     "start_time": "2019-11-01T22:02:13.980737Z"
    },
    "scrolled": false
   },
   "outputs": [
    {
     "name": "stdout",
     "output_type": "stream",
     "text": [
      "            btc.FlowInHUONtv  btc.FlowOutHUONtv  btc.SplyHUONtv  \\\n",
      "2019-10-11       7664.698534        7939.537989   298630.409008   \n",
      "\n",
      "            btc.HUONetFlowNtv  btc.HUOZeroedNetFlowNtv  \\\n",
      "2019-10-11        -274.839455              -274.839455   \n",
      "\n",
      "            btc.HUOCumulativeNetFlowNtv  btc.HUOStartingSplyNtv  \\\n",
      "2019-10-11                 137814.61735             1624.840353   \n",
      "\n",
      "            btc.HUONetFlowSplyNtv  btc.HUONetFlowNtvPercentChange  \\\n",
      "2019-10-11          139439.457703                       -0.001866   \n",
      "\n",
      "            btc.SplyHUONtvPercentChange  btc.HUODiffSplyNetFlowNtv  \\\n",
      "2019-10-11                     1.027898             -159190.951305   \n",
      "\n",
      "            btc.HUODiffPercentChangeSplyNetFlowNtv  \n",
      "2019-10-11                               -1.029764  \n"
     ]
    },
    {
     "name": "stderr",
     "output_type": "stream",
     "text": [
      "/opt/conda/lib/python3.6/site-packages/pandas/core/indexing.py:376: SettingWithCopyWarning: \n",
      "A value is trying to be set on a copy of a slice from a DataFrame.\n",
      "Try using .loc[row_indexer,col_indexer] = value instead\n",
      "\n",
      "See the caveats in the documentation: http://pandas.pydata.org/pandas-docs/stable/user_guide/indexing.html#returning-a-view-versus-a-copy\n",
      "  self.obj[key] = _infer_fill_value(value)\n",
      "/opt/conda/lib/python3.6/site-packages/pandas/core/indexing.py:494: SettingWithCopyWarning: \n",
      "A value is trying to be set on a copy of a slice from a DataFrame.\n",
      "Try using .loc[row_indexer,col_indexer] = value instead\n",
      "\n",
      "See the caveats in the documentation: http://pandas.pydata.org/pandas-docs/stable/user_guide/indexing.html#returning-a-view-versus-a-copy\n",
      "  self.obj[item] = s\n"
     ]
    }
   ],
   "source": [
    "result = FlowIncidentsExtractor(asset='btc', exchange=exchange)\n",
    "ss = result.transform(df)\n"
   ]
  },
  {
   "cell_type": "code",
   "execution_count": 5,
   "metadata": {
    "ExecuteTime": {
     "end_time": "2019-11-01T22:02:14.055647Z",
     "start_time": "2019-11-01T22:02:14.017495Z"
    }
   },
   "outputs": [
    {
     "data": {
      "text/html": [
       "<div>\n",
       "<style scoped>\n",
       "    .dataframe tbody tr th:only-of-type {\n",
       "        vertical-align: middle;\n",
       "    }\n",
       "\n",
       "    .dataframe tbody tr th {\n",
       "        vertical-align: top;\n",
       "    }\n",
       "\n",
       "    .dataframe thead th {\n",
       "        text-align: right;\n",
       "    }\n",
       "</style>\n",
       "<table border=\"1\" class=\"dataframe\">\n",
       "  <thead>\n",
       "    <tr style=\"text-align: right;\">\n",
       "      <th></th>\n",
       "      <th>btc.FlowInHUONtv</th>\n",
       "      <th>btc.FlowOutHUONtv</th>\n",
       "      <th>btc.SplyHUONtv</th>\n",
       "      <th>btc.HUONetFlowNtv</th>\n",
       "      <th>btc.HUOZeroedNetFlowNtv</th>\n",
       "      <th>btc.HUOCumulativeNetFlowNtv</th>\n",
       "      <th>btc.HUOStartingSplyNtv</th>\n",
       "      <th>btc.HUONetFlowSplyNtv</th>\n",
       "      <th>btc.HUONetFlowNtvPercentChange</th>\n",
       "      <th>btc.SplyHUONtvPercentChange</th>\n",
       "      <th>btc.HUODiffSplyNetFlowNtv</th>\n",
       "      <th>btc.HUODiffPercentChangeSplyNetFlowNtv</th>\n",
       "      <th>exchange</th>\n",
       "      <th>asset</th>\n",
       "      <th>NetFlowPctChange</th>\n",
       "      <th>SplyPctChange</th>\n",
       "      <th>Difference</th>\n",
       "    </tr>\n",
       "  </thead>\n",
       "  <tbody>\n",
       "    <tr>\n",
       "      <td>2019-10-11</td>\n",
       "      <td>7664.698534</td>\n",
       "      <td>7939.537989</td>\n",
       "      <td>298630.409008</td>\n",
       "      <td>-274.839455</td>\n",
       "      <td>-274.839455</td>\n",
       "      <td>137814.61735</td>\n",
       "      <td>1624.840353</td>\n",
       "      <td>139439.457703</td>\n",
       "      <td>-0.001866</td>\n",
       "      <td>1.027898</td>\n",
       "      <td>-159190.951305</td>\n",
       "      <td>-1.029764</td>\n",
       "      <td>HUO</td>\n",
       "      <td>btc</td>\n",
       "      <td>-0.001866</td>\n",
       "      <td>1.027898</td>\n",
       "      <td>-1.029764</td>\n",
       "    </tr>\n",
       "  </tbody>\n",
       "</table>\n",
       "</div>"
      ],
      "text/plain": [
       "            btc.FlowInHUONtv  btc.FlowOutHUONtv  btc.SplyHUONtv  \\\n",
       "2019-10-11       7664.698534        7939.537989   298630.409008   \n",
       "\n",
       "            btc.HUONetFlowNtv  btc.HUOZeroedNetFlowNtv  \\\n",
       "2019-10-11        -274.839455              -274.839455   \n",
       "\n",
       "            btc.HUOCumulativeNetFlowNtv  btc.HUOStartingSplyNtv  \\\n",
       "2019-10-11                 137814.61735             1624.840353   \n",
       "\n",
       "            btc.HUONetFlowSplyNtv  btc.HUONetFlowNtvPercentChange  \\\n",
       "2019-10-11          139439.457703                       -0.001866   \n",
       "\n",
       "            btc.SplyHUONtvPercentChange  btc.HUODiffSplyNetFlowNtv  \\\n",
       "2019-10-11                     1.027898             -159190.951305   \n",
       "\n",
       "            btc.HUODiffPercentChangeSplyNetFlowNtv exchange asset  \\\n",
       "2019-10-11                               -1.029764      HUO   btc   \n",
       "\n",
       "            NetFlowPctChange  SplyPctChange  Difference  \n",
       "2019-10-11         -0.001866       1.027898   -1.029764  "
      ]
     },
     "execution_count": 5,
     "metadata": {},
     "output_type": "execute_result"
    }
   ],
   "source": [
    "ss"
   ]
  },
  {
   "cell_type": "code",
   "execution_count": null,
   "metadata": {},
   "outputs": [],
   "source": []
  }
 ],
 "metadata": {
  "kernelspec": {
   "display_name": "Python 3",
   "language": "python",
   "name": "python3"
  },
  "language_info": {
   "codemirror_mode": {
    "name": "ipython",
    "version": 3
   },
   "file_extension": ".py",
   "mimetype": "text/x-python",
   "name": "python",
   "nbconvert_exporter": "python",
   "pygments_lexer": "ipython3",
   "version": "3.6.9"
  },
  "toc": {
   "base_numbering": 1,
   "nav_menu": {},
   "number_sections": true,
   "sideBar": true,
   "skip_h1_title": false,
   "title_cell": "Table of Contents",
   "title_sidebar": "Contents",
   "toc_cell": false,
   "toc_position": {},
   "toc_section_display": true,
   "toc_window_display": false
  },
  "varInspector": {
   "cols": {
    "lenName": 16,
    "lenType": 16,
    "lenVar": 40
   },
   "kernels_config": {
    "python": {
     "delete_cmd_postfix": "",
     "delete_cmd_prefix": "del ",
     "library": "var_list.py",
     "varRefreshCmd": "print(var_dic_list())"
    },
    "r": {
     "delete_cmd_postfix": ") ",
     "delete_cmd_prefix": "rm(",
     "library": "var_list.r",
     "varRefreshCmd": "cat(var_dic_list()) "
    }
   },
   "types_to_exclude": [
    "module",
    "function",
    "builtin_function_or_method",
    "instance",
    "_Feature"
   ],
   "window_display": false
  }
 },
 "nbformat": 4,
 "nbformat_minor": 2
}
