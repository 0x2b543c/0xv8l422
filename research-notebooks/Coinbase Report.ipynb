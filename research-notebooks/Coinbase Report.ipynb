{
 "cells": [
  {
   "cell_type": "markdown",
   "metadata": {},
   "source": [
    "## Resources\n",
    "\n",
    "- Uniswap Report: https://mailchi.mp/blocklytics/uniswap-report-2019-12-03?e=ba0b31ac25\n",
    "- Bitcoin 11th bday report: https://blog.coinbase.com/charting-the-course-of-bitcoin-11-years-and-counting-b4e17969d4e1\n",
    "- Coinbase assets: https://www.coinbase.com/price\n",
    "- Plotly graph types: https://plot.ly/python/"
   ]
  },
  {
   "cell_type": "code",
   "execution_count": 1,
   "metadata": {
    "ExecuteTime": {
     "end_time": "2020-01-02T22:39:35.485739Z",
     "start_time": "2020-01-02T22:39:35.474361Z"
    }
   },
   "outputs": [],
   "source": [
    "import sys\n",
    "sys.path.append('/workspace')\n",
    "%matplotlib inline"
   ]
  },
  {
   "cell_type": "code",
   "execution_count": 2,
   "metadata": {
    "ExecuteTime": {
     "end_time": "2020-01-02T22:39:40.790658Z",
     "start_time": "2020-01-02T22:39:35.494590Z"
    }
   },
   "outputs": [
    {
     "ename": "ModuleNotFoundError",
     "evalue": "No module named 'modules'",
     "output_type": "error",
     "traceback": [
      "\u001b[0;31m---------------------------------------------------------------------------\u001b[0m",
      "\u001b[0;31mModuleNotFoundError\u001b[0m                       Traceback (most recent call last)",
      "\u001b[0;32m<ipython-input-2-69602d04de2a>\u001b[0m in \u001b[0;36m<module>\u001b[0;34m\u001b[0m\n\u001b[0;32m----> 1\u001b[0;31m \u001b[0;32mfrom\u001b[0m \u001b[0mmodules\u001b[0m\u001b[0;34m.\u001b[0m\u001b[0mReports\u001b[0m\u001b[0;34m.\u001b[0m\u001b[0mCoinbaseReport\u001b[0m \u001b[0;32mimport\u001b[0m \u001b[0mCoinbaseReport\u001b[0m\u001b[0;34m\u001b[0m\u001b[0m\n\u001b[0m",
      "\u001b[0;31mModuleNotFoundError\u001b[0m: No module named 'modules'"
     ]
    }
   ],
   "source": [
    "from modules.Reports.CoinbaseReport import CoinbaseReport"
   ]
  },
  {
   "cell_type": "code",
   "execution_count": null,
   "metadata": {
    "ExecuteTime": {
     "end_time": "2020-01-02T22:39:40.811901Z",
     "start_time": "2020-01-02T22:39:40.795487Z"
    }
   },
   "outputs": [],
   "source": [
    "api_key = 'KKzV6V2DTY87v3m1dGZu'\n",
    "start = '2019-12-29'\n",
    "asset_group = ['btc', 'eth', 'bch', 'xtz', 'xmr', 'xlm', 'ltc', 'zec', 'dcr']\n",
    "btc_forks = ['btc', 'bch', 'bsv']\n",
    "assets = ['btc']\n",
    "growth = False\n",
    "market_share = False\n",
    "aggregate = False\n",
    "aggregated_assets_name = None\n",
    "seven_day_rolling_average = False\n",
    "log_y_axis = False\n",
    "y2_axis_columns = None"
   ]
  },
  {
   "cell_type": "code",
   "execution_count": null,
   "metadata": {
    "ExecuteTime": {
     "end_time": "2020-01-02T22:39:52.299968Z",
     "start_time": "2020-01-02T22:39:40.818537Z"
    }
   },
   "outputs": [],
   "source": [
    "coinbase_report = CoinbaseReport(title='Coinbase Report', api_key=api_key, assets=assets, start=start, growth=growth, market_share=market_share, aggregate=aggregate, aggregated_assets_name=aggregated_assets_name, seven_day_rolling_average=seven_day_rolling_average, log_y_axis=log_y_axis, y2_axis_columns=y2_axis_columns).run()"
   ]
  },
  {
   "cell_type": "code",
   "execution_count": null,
   "metadata": {
    "ExecuteTime": {
     "end_time": "2019-12-16T20:35:09.693175Z",
     "start_time": "2019-12-16T20:35:09.622935Z"
    }
   },
   "outputs": [],
   "source": []
  },
  {
   "cell_type": "markdown",
   "metadata": {},
   "source": [
    "# Demo Report"
   ]
  },
  {
   "cell_type": "markdown",
   "metadata": {},
   "source": [
    "## Valuation"
   ]
  },
  {
   "cell_type": "code",
   "execution_count": null,
   "metadata": {
    "ExecuteTime": {
     "end_time": "2020-01-02T22:39:53.101420Z",
     "start_time": "2020-01-02T22:39:52.302771Z"
    },
    "scrolled": false
   },
   "outputs": [],
   "source": [
    "coinbase_report.render_visualizations('valuation')"
   ]
  },
  {
   "cell_type": "markdown",
   "metadata": {
    "heading_collapsed": true
   },
   "source": [
    "## Economics"
   ]
  },
  {
   "cell_type": "code",
   "execution_count": null,
   "metadata": {
    "ExecuteTime": {
     "end_time": "2020-01-02T22:39:53.625207Z",
     "start_time": "2020-01-02T22:39:53.105332Z"
    },
    "hidden": true,
    "scrolled": false
   },
   "outputs": [],
   "source": [
    "coinbase_report.render_visualizations('economics')"
   ]
  },
  {
   "cell_type": "markdown",
   "metadata": {},
   "source": [
    "## Usage"
   ]
  },
  {
   "cell_type": "code",
   "execution_count": null,
   "metadata": {
    "ExecuteTime": {
     "end_time": "2020-01-02T22:39:54.090989Z",
     "start_time": "2020-01-02T22:39:53.627957Z"
    },
    "scrolled": false
   },
   "outputs": [],
   "source": [
    "coinbase_report.render_visualizations('usage')"
   ]
  },
  {
   "cell_type": "markdown",
   "metadata": {
    "ExecuteTime": {
     "end_time": "2019-11-22T20:39:19.514775Z",
     "start_time": "2019-11-22T20:39:19.503237Z"
    }
   },
   "source": [
    "## Security"
   ]
  },
  {
   "cell_type": "code",
   "execution_count": null,
   "metadata": {
    "ExecuteTime": {
     "end_time": "2020-01-02T22:39:54.459055Z",
     "start_time": "2020-01-02T22:39:54.093434Z"
    }
   },
   "outputs": [],
   "source": [
    "coinbase_report.render_visualizations('security')"
   ]
  },
  {
   "cell_type": "markdown",
   "metadata": {},
   "source": [
    "## Active Supply"
   ]
  },
  {
   "cell_type": "code",
   "execution_count": null,
   "metadata": {
    "ExecuteTime": {
     "end_time": "2020-01-02T22:39:55.193626Z",
     "start_time": "2020-01-02T22:39:54.463378Z"
    },
    "scrolled": false
   },
   "outputs": [],
   "source": [
    "coinbase_report.render_visualizations('active-supply')"
   ]
  },
  {
   "cell_type": "markdown",
   "metadata": {},
   "source": [
    "## Token Distributions"
   ]
  },
  {
   "cell_type": "code",
   "execution_count": null,
   "metadata": {
    "ExecuteTime": {
     "end_time": "2020-01-02T22:39:56.716786Z",
     "start_time": "2020-01-02T22:39:55.197145Z"
    },
    "scrolled": false
   },
   "outputs": [],
   "source": [
    "coinbase_report.render_visualizations('token-distributions')"
   ]
  },
  {
   "cell_type": "markdown",
   "metadata": {},
   "source": [
    "## Exchange Flows"
   ]
  },
  {
   "cell_type": "code",
   "execution_count": null,
   "metadata": {
    "ExecuteTime": {
     "end_time": "2020-01-02T22:39:57.552857Z",
     "start_time": "2020-01-02T22:39:56.723274Z"
    },
    "scrolled": false
   },
   "outputs": [],
   "source": [
    "coinbase_report.render_visualizations('exchange-flows')"
   ]
  },
  {
   "cell_type": "code",
   "execution_count": null,
   "metadata": {},
   "outputs": [],
   "source": []
  }
 ],
 "metadata": {
  "kernelspec": {
   "display_name": "Python 3",
   "language": "python",
   "name": "python3"
  },
  "language_info": {
   "codemirror_mode": {
    "name": "ipython",
    "version": 3
   },
   "file_extension": ".py",
   "mimetype": "text/x-python",
   "name": "python",
   "nbconvert_exporter": "python",
   "pygments_lexer": "ipython3",
   "version": "3.6.5"
  },
  "toc": {
   "base_numbering": 1,
   "nav_menu": {},
   "number_sections": true,
   "sideBar": true,
   "skip_h1_title": false,
   "title_cell": "Table of Contents",
   "title_sidebar": "Contents",
   "toc_cell": false,
   "toc_position": {},
   "toc_section_display": true,
   "toc_window_display": false
  },
  "varInspector": {
   "cols": {
    "lenName": 16,
    "lenType": 16,
    "lenVar": 40
   },
   "kernels_config": {
    "python": {
     "delete_cmd_postfix": "",
     "delete_cmd_prefix": "del ",
     "library": "var_list.py",
     "varRefreshCmd": "print(var_dic_list())"
    },
    "r": {
     "delete_cmd_postfix": ") ",
     "delete_cmd_prefix": "rm(",
     "library": "var_list.r",
     "varRefreshCmd": "cat(var_dic_list()) "
    }
   },
   "types_to_exclude": [
    "module",
    "function",
    "builtin_function_or_method",
    "instance",
    "_Feature"
   ],
   "window_display": false
  }
 },
 "nbformat": 4,
 "nbformat_minor": 2
}
