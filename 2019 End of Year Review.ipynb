{
 "cells": [
  {
   "cell_type": "code",
   "execution_count": 9,
   "metadata": {
    "ExecuteTime": {
     "end_time": "2019-12-20T20:43:03.245368Z",
     "start_time": "2019-12-20T20:43:02.811704Z"
    }
   },
   "outputs": [],
   "source": [
    "import sys\n",
    "sys.path.append('../modules')\n",
    "%matplotlib inline\n",
    "import pandas as pd"
   ]
  },
  {
   "cell_type": "code",
   "execution_count": 10,
   "metadata": {
    "ExecuteTime": {
     "end_time": "2019-12-20T20:43:04.765248Z",
     "start_time": "2019-12-20T20:43:03.248426Z"
    }
   },
   "outputs": [
    {
     "ename": "ModuleNotFoundError",
     "evalue": "No module named 'modules'",
     "output_type": "error",
     "traceback": [
      "\u001b[0;31m-----------------------------------------------------------------------\u001b[0m",
      "\u001b[0;31mModuleNotFoundError\u001b[0m                   Traceback (most recent call last)",
      "\u001b[0;32m<ipython-input-10-ce14c321a5f8>\u001b[0m in \u001b[0;36m<module>\u001b[0;34m\u001b[0m\n\u001b[0;32m----> 1\u001b[0;31m \u001b[0;32mfrom\u001b[0m \u001b[0mmodules\u001b[0m\u001b[0;34m.\u001b[0m\u001b[0mReports\u001b[0m\u001b[0;34m.\u001b[0m\u001b[0mCoinbaseReport\u001b[0m \u001b[0;32mimport\u001b[0m \u001b[0mCoinbaseReport\u001b[0m\u001b[0;34m\u001b[0m\u001b[0m\n\u001b[0m\u001b[1;32m      2\u001b[0m \u001b[0;32mfrom\u001b[0m \u001b[0mmodules\u001b[0m\u001b[0;34m.\u001b[0m\u001b[0mReports\u001b[0m\u001b[0;34m.\u001b[0m\u001b[0mReportGenerator\u001b[0m \u001b[0;32mimport\u001b[0m \u001b[0mReportGenerator\u001b[0m\u001b[0;34m\u001b[0m\u001b[0m\n\u001b[1;32m      3\u001b[0m \u001b[0;32mfrom\u001b[0m \u001b[0mmodules\u001b[0m\u001b[0;34m.\u001b[0m\u001b[0mPipelines\u001b[0m\u001b[0;34m.\u001b[0m\u001b[0mNetworkDataPipe\u001b[0m \u001b[0;32mimport\u001b[0m \u001b[0mNetworkDataPipe\u001b[0m\u001b[0;34m\u001b[0m\u001b[0m\n\u001b[1;32m      4\u001b[0m \u001b[0;32mfrom\u001b[0m \u001b[0mmodules\u001b[0m\u001b[0;34m.\u001b[0m\u001b[0mVisualizers\u001b[0m\u001b[0;34m.\u001b[0m\u001b[0mLineChart\u001b[0m \u001b[0;32mimport\u001b[0m \u001b[0mLineChart\u001b[0m\u001b[0;34m\u001b[0m\u001b[0m\n\u001b[1;32m      5\u001b[0m \u001b[0;32mfrom\u001b[0m \u001b[0mmodules\u001b[0m\u001b[0;34m.\u001b[0m\u001b[0mVisualizers\u001b[0m\u001b[0;34m.\u001b[0m\u001b[0mSubPlot\u001b[0m \u001b[0;32mimport\u001b[0m \u001b[0mSubPlot\u001b[0m\u001b[0;34m\u001b[0m\u001b[0m\n",
      "\u001b[0;31mModuleNotFoundError\u001b[0m: No module named 'modules'"
     ]
    }
   ],
   "source": [
    "from modules.Reports.CoinbaseReport import CoinbaseReport\n",
    "from modules.Reports.ReportGenerator import ReportGenerator\n",
    "from modules.Pipelines.NetworkDataPipe import NetworkDataPipe\n",
    "from modules.Visualizers.LineChart import LineChart\n",
    "from modules.Visualizers.SubPlot import SubPlot\n",
    "from modules.Visualizers.Table import Table\n",
    "from modules.Transformers.Divider import Divider\n",
    "from modules.Transformers.Multiplier import Multiplier"
   ]
  },
  {
   "cell_type": "code",
   "execution_count": null,
   "metadata": {
    "ExecuteTime": {
     "end_time": "2019-12-20T20:43:04.799076Z",
     "start_time": "2019-12-20T20:43:04.768250Z"
    }
   },
   "outputs": [],
   "source": [
    "api_key = 'KKzV6V2DTY87v3m1dGZu'\n",
    "start = '2019-01-01'\n",
    "asset_sample = [\n",
    "    'btc',\n",
    "    'xrp',\n",
    "    'eth',\n",
    "    'bch',\n",
    "    'ltc',\n",
    "#     'eos',\n",
    "    'xlm',\n",
    "    'xtz',\n",
    "    'bsv',\n",
    "    'ada',\n",
    "    'zec',\n",
    "    'link',\n",
    "    'dcr',\n",
    "    'mkr',\n",
    "    'bat',\n",
    "    'usdt',\n",
    "    'usdt_eth',\n",
    "    'dai',\n",
    "    'usdc'\n",
    "]\n",
    "\n",
    "valuation = [\n",
    "    'CapRealUSD',\n",
    "    'CapMrktCurUSD',\n",
    "    'CapMVRVCur',\n",
    "#     'NVTAdj',\n",
    "    'VtyDayRet30d',\n",
    "    'PriceUSD'\n",
    "    \n",
    "    \n",
    "]\n",
    "\n",
    "economics = [\n",
    "    'TxCnt',\n",
    "    'TxTfrCnt',\n",
    "    'TxTfrValAdjUSD',\n",
    "    'IssContPctAnn',\n",
    "    'FeeMedUSD',\n",
    "#     'VelActAdj1yr',\n",
    "#     'VelCurAdj1yr',\n",
    "#     'TxTfrValAdjByte'\n",
    "]\n",
    "\n",
    "usage = [\n",
    "    'AdrActCnt',\n",
    "    'AdrBalUSD10Cnt',\n",
    "    'AdrBalUSD1MCnt',\n",
    "    'BlkSizeByte'\n",
    "]\n",
    "\n",
    "# 'FeesToBlockReward', 'DeltaCap'\n",
    "security_and_health = [\n",
    "        'HashRate',\n",
    "        'DiffMean',\n",
    "        'FeeTotUSD',\n",
    "        'FeeRevPct',\n",
    "        'RevUSD',\n",
    "#         'RevAllTimeUSD'\n",
    "]\n",
    "\n",
    "extra= [\n",
    "    'SplyCur',\n",
    "    'SplyAct30d',\n",
    "]\n",
    "\n",
    "metrics = valuation + economics + usage + security_and_health + extra\n",
    "\n",
    "assets = asset_sample\n",
    "growth = True\n",
    "# market_share = False\n",
    "# aggregate = False\n",
    "# aggregated_assets_name = None\n",
    "# seven_day_rolling_average = True\n",
    "# log_y_axis = False\n",
    "# y2_axis_columns = None"
   ]
  },
  {
   "cell_type": "code",
   "execution_count": null,
   "metadata": {
    "ExecuteTime": {
     "end_time": "2019-12-20T20:43:21.142071Z",
     "start_time": "2019-12-20T20:43:04.816117Z"
    }
   },
   "outputs": [],
   "source": [
    "df = NetworkDataPipe(api_key=api_key, metrics=metrics, assets=assets, start=start).run()\n",
    "for asset in assets:\n",
    "    df = Divider(column_a=f'{asset}.SplyAct30d', column_b=f'{asset}.SplyCur', new_column_name=f'{asset}.SplyAct30dPercent').transform(df)\n",
    "    df = Multiplier(column=f'{asset}.SplyAct30dPercent', multiplier=100).transform(df)\n",
    "    \n",
    "df.head()"
   ]
  },
  {
   "cell_type": "code",
   "execution_count": null,
   "metadata": {
    "ExecuteTime": {
     "end_time": "2019-12-20T20:43:21.222470Z",
     "start_time": "2019-12-20T20:43:21.152089Z"
    }
   },
   "outputs": [],
   "source": [
    "table_data= df.loc['2019-12-18':'2019-12-18']\n",
    "# last_val = df['btc.PriceUSD'].iloc[df['btc.PriceUSD'].size - 1]\n",
    "# last_val\n",
    "table_data.head()"
   ]
  },
  {
   "cell_type": "code",
   "execution_count": null,
   "metadata": {
    "ExecuteTime": {
     "end_time": "2019-12-20T20:43:21.243970Z",
     "start_time": "2019-12-20T20:43:21.229822Z"
    }
   },
   "outputs": [],
   "source": [
    "def map_metric_name(metric):\n",
    "    metric_mappings = {\n",
    "        'Asset': 'Asset',\n",
    "        'CapRealUSD' : 'Realized Cap',\n",
    "        'CapMrktCurUSD': 'Market Cap',\n",
    "        'CapMVRVCur': 'MVRV',\n",
    "        'VtyDayRet30d': 'Volatility, 30d',\n",
    "        'PriceUSD': 'Price, USD',\n",
    "        'AdrActCnt': 'Active Addresses',\n",
    "        'AdrBalUSD10Cnt': 'Addresses w/ Balance >= $10',\n",
    "        'AdrBalUSD1MCnt': 'Addresses w/ Balance >= $1M',\n",
    "        'SplyAct30d': 'Active Supply, 30d',\n",
    "        'SplyAct30dPercent' : 'Active Supply Percentage, 30d',\n",
    "        'BlkSizeByte': 'Block Size, Bytes',\n",
    "        'TxCnt': 'Transaction Count',\n",
    "        'TxTfrCnt': 'Transfer Count',\n",
    "        'TxTfrValAdjUSD': 'Adjusted Transfer Value',\n",
    "        'IssContPctAnn': 'Issuance, Annualized',\n",
    "        'FeeMedUSD': 'Median Transaction Fee',\n",
    "        'HashRate': 'Hash Rate',\n",
    "        'DiffMean': 'Difficulty, Mean',\n",
    "        'FeeTotUSD': 'Fees, USD',\n",
    "        'FeeRevPct': 'Fee to Revenue Percentage',\n",
    "        'RevUSD': 'Miner Revenue, USD'\n",
    "        \n",
    "    }\n",
    "\n",
    "    return metric_mappings[metric] if metric in list(metric_mappings.keys()) else metric"
   ]
  },
  {
   "cell_type": "code",
   "execution_count": null,
   "metadata": {
    "ExecuteTime": {
     "end_time": "2019-12-20T20:43:22.429371Z",
     "start_time": "2019-12-20T20:43:21.248662Z"
    }
   },
   "outputs": [],
   "source": [
    "def create_year_end_table(df, assets, metrics):\n",
    "    table_df = pd.DataFrame(columns=['Asset'])\n",
    "\n",
    "    for asset in assets:\n",
    "        _new_row = {}\n",
    "        _new_row['Asset'] = asset\n",
    "        for metric in metrics:\n",
    "            _new_row[metric] = df.iloc[0][f'{asset}.{metric}']\n",
    "        table_df = table_df.append(_new_row, ignore_index=True)\n",
    "        table_df.sort_values(by=list(table_df.columns)[1], ascending=False, inplace=True)\n",
    "        \n",
    "    mapper =  {\n",
    "       'AdrActCnt': '{0:,.0f}',\n",
    "       'AdrBalUSD10Cnt': '{0:,.0f}',\n",
    "       'AdrBalUSD1MCnt': '{0:,.0f}',\n",
    "#        'SplyAct30d': '{0:,.2f}',\n",
    "       'BlkSizeByte': '{0:,.0f}',\n",
    "       'SplyAct30dPercent': '{0:.2f}%',\n",
    "    }\n",
    "\n",
    "    for key, value in mapper.items():\n",
    "        table_df[key] = table_df[key].apply(value.format)\n",
    "    \n",
    "    table_df.columns = map(map_metric_name, list(table_df.columns))\n",
    "    \n",
    "    _table = Table(df=table_df, title='Tab;e', table_headers=list(table_df.columns), table_columns=list(table_df.columns)).run()\n",
    "    _table.fig.update_layout(height=600)\n",
    "    _table.export('Test-Table')\n",
    "    return _table.show()\n",
    "\n",
    "create_year_end_table(df=table_data, assets=assets, metrics=usage + ['SplyAct30dPercent'])"
   ]
  },
  {
   "cell_type": "code",
   "execution_count": null,
   "metadata": {
    "ExecuteTime": {
     "end_time": "2019-12-20T20:43:22.564529Z",
     "start_time": "2019-12-20T20:43:02.816Z"
    }
   },
   "outputs": [],
   "source": [
    "# def create_table(self):\n",
    "#     fig = go.Figure(data=[go.Table(\n",
    "#         header={\n",
    "#             'values': self.table_headers,\n",
    "#             'fill_color': 'skyblue',\n",
    "#             'align': 'left'\n",
    "#         },\n",
    "#         cells={\n",
    "#             'values': [self.df[column] for column in self.table_columns],\n",
    "#             'fill_color': 'snow',\n",
    "#             'align': 'left'\n",
    "#         }\n",
    "#     )])"
   ]
  },
  {
   "cell_type": "code",
   "execution_count": null,
   "metadata": {
    "ExecuteTime": {
     "end_time": "2019-12-20T20:43:22.592523Z",
     "start_time": "2019-12-20T20:43:02.818Z"
    },
    "scrolled": false
   },
   "outputs": [],
   "source": [
    "growth = True\n",
    "seven_day_rolling_average = True\n",
    "y2_price_trace = False\n",
    "\n",
    "subplot_visuals = []\n",
    "\n",
    "for metric in metrics + ['SplyAct30dPercent']:\n",
    "    metric_title = map_metric_name(metric)\n",
    "    _subplot = SubPlot(df=df, title=f'{metric_title}, 2019', number_of_rows=6, number_of_columns=3, columns_to_plot=[f'{asset}.{metric}' for asset in assets], growth=growth, seven_day_rolling_average=seven_day_rolling_average, y2_price_trace=y2_price_trace)\n",
    "    subplot_visuals.append(_subplot)\n",
    "    \n",
    "for visual in subplot_visuals:  \n",
    "    _visual = visual.run()\n",
    "    _visual.fig.update_layout(\n",
    "        showlegend=False,\n",
    "        height= 900,\n",
    "        width = 800,\n",
    "        legend = {\n",
    "#         'orientation': 'v',\n",
    "#         'xanchor': 'left',\n",
    "        'xanchor': 'center',\n",
    "        'yanchor': 'bottom',\n",
    "        'x': .5,\n",
    "        'y': -.25,\n",
    "        'orientation': 'h'\n",
    "        })\n",
    "    _visual.show()"
   ]
  },
  {
   "cell_type": "code",
   "execution_count": null,
   "metadata": {
    "ExecuteTime": {
     "end_time": "2019-12-20T20:43:22.625406Z",
     "start_time": "2019-12-20T20:43:02.821Z"
    },
    "scrolled": false
   },
   "outputs": [],
   "source": [
    "# for metric in metrics:\n",
    "#     LineChart(df=df, title=f'{metric}, 2019', y_columns=[f'{asset}.{metric}' for asset in assets], growth=growth).run().show()"
   ]
  },
  {
   "cell_type": "code",
   "execution_count": null,
   "metadata": {
    "ExecuteTime": {
     "end_time": "2019-12-20T20:43:22.648688Z",
     "start_time": "2019-12-20T20:43:02.824Z"
    },
    "scrolled": false
   },
   "outputs": [],
   "source": [
    "active_supply_metrics = ['SplyAct30d', 'SplyAct180d', 'SplyAct1yr', 'SplyAct2yr', 'SplyAct3yr', 'SplyAct4yr', 'SplyAct5yr']\n",
    "active_supply_df = NetworkDataPipe(api_key=api_key, metrics=active_supply_metrics, assets=['btc', 'eth'], start=start).run()\n",
    "\n",
    "LineChart(df=active_supply_df, title=f'BTC Active Supply, 2019', y_columns=[f'btc.{metric}' for metric in active_supply_metrics], growth=False, filled_area=True).run().show()"
   ]
  },
  {
   "cell_type": "code",
   "execution_count": null,
   "metadata": {
    "ExecuteTime": {
     "end_time": "2019-12-20T20:43:22.675372Z",
     "start_time": "2019-12-20T20:43:02.826Z"
    }
   },
   "outputs": [],
   "source": [
    "\n",
    "addresses_with_balance_greater_than_X_ntv_metrics = ['AdrBalNtv0.1Cnt', 'AdrBalNtv1Cnt', 'AdrBalNtv10Cnt', 'AdrBalNtv100Cnt', 'AdrBalNtv1KCnt']\n",
    "\n",
    "addresses_with_balance_greater_than_X_usd_metrics = ['AdrBalUSD1Cnt', 'AdrBalUSD10Cnt', 'AdrBalUSD100Cnt', 'AdrBalUSD1KCnt', 'AdrBalUSD10KCnt', 'AdrBalUSD100KCnt', 'AdrBalUSD1MCnt', 'AdrBalUSD10MCnt']\n",
    "\n",
    "addresses_with_balance_greater_than_1_in_X_ntv_metrics = ['AdrBal1in100KCnt', 'AdrBal1in1MCnt', 'AdrBal1in10MCnt', 'AdrBal1in100MCnt', 'AdrBal1in1BCnt']\n",
    "\n",
    "dist_metrics = addresses_with_balance_greater_than_X_ntv_metrics + addresses_with_balance_greater_than_X_usd_metrics + addresses_with_balance_greater_than_1_in_X_ntv_metrics\n",
    "\n",
    "distribution_df = NetworkDataPipe(api_key=api_key, metrics=dist_metrics, assets=['btc', 'eth'], start=start).run()\n",
    "\n",
    "LineChart(df=distribution_df, title=f'BTC Addresses w/ Balance > X, NTV Units, 2019', y_columns=[f'btc.{metric}' for metric in addresses_with_balance_greater_than_X_ntv_metrics], growth=False, filled_area=True).run().show()"
   ]
  },
  {
   "cell_type": "code",
   "execution_count": null,
   "metadata": {},
   "outputs": [],
   "source": []
  },
  {
   "cell_type": "code",
   "execution_count": null,
   "metadata": {},
   "outputs": [],
   "source": []
  },
  {
   "cell_type": "code",
   "execution_count": null,
   "metadata": {},
   "outputs": [],
   "source": []
  }
 ],
 "metadata": {
  "kernelspec": {
   "display_name": "Python 3",
   "language": "python",
   "name": "python3"
  },
  "language_info": {
   "codemirror_mode": {
    "name": "ipython",
    "version": 3
   },
   "file_extension": ".py",
   "mimetype": "text/x-python",
   "name": "python",
   "nbconvert_exporter": "python",
   "pygments_lexer": "ipython3",
   "version": "3.6.5"
  },
  "toc": {
   "base_numbering": 1,
   "nav_menu": {},
   "number_sections": true,
   "sideBar": true,
   "skip_h1_title": false,
   "title_cell": "Table of Contents",
   "title_sidebar": "Contents",
   "toc_cell": false,
   "toc_position": {},
   "toc_section_display": true,
   "toc_window_display": false
  },
  "varInspector": {
   "cols": {
    "lenName": 16,
    "lenType": 16,
    "lenVar": 40
   },
   "kernels_config": {
    "python": {
     "delete_cmd_postfix": "",
     "delete_cmd_prefix": "del ",
     "library": "var_list.py",
     "varRefreshCmd": "print(var_dic_list())"
    },
    "r": {
     "delete_cmd_postfix": ") ",
     "delete_cmd_prefix": "rm(",
     "library": "var_list.r",
     "varRefreshCmd": "cat(var_dic_list()) "
    }
   },
   "types_to_exclude": [
    "module",
    "function",
    "builtin_function_or_method",
    "instance",
    "_Feature"
   ],
   "window_display": false
  }
 },
 "nbformat": 4,
 "nbformat_minor": 2
}
